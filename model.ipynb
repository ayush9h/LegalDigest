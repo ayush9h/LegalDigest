{
 "cells": [
  {
   "cell_type": "code",
   "execution_count": 3,
   "id": "9dbf31b4",
   "metadata": {},
   "outputs": [],
   "source": [
    "import pandas as pd\n",
    "import numpy as np\n",
    "import logging\n",
    "\n",
    "from groq import Groq\n",
    "from dotenv import load_dotenv\n",
    "import os\n",
    "\n",
    "\n",
    "load_dotenv()\n",
    "logging.basicConfig(level=logging.INFO)"
   ]
  },
  {
   "cell_type": "code",
   "execution_count": 4,
   "id": "1b7849c2",
   "metadata": {},
   "outputs": [
    {
     "name": "stderr",
     "output_type": "stream",
     "text": [
      "INFO:root:Dataset loaded successfully\n"
     ]
    }
   ],
   "source": [
    "df = pd.read_csv(\"./articles.csv\", nrows = 15)\n",
    "logging.info(msg=\"Dataset loaded successfully\")"
   ]
  },
  {
   "cell_type": "code",
   "execution_count": 5,
   "id": "501eb36e",
   "metadata": {},
   "outputs": [
    {
     "name": "stderr",
     "output_type": "stream",
     "text": [
      "INFO:root:Model initialized with the instructed prompt\n"
     ]
    }
   ],
   "source": [
    "client = Groq(api_key = os.environ.get(\"GROQ_API_KEY\"))\n",
    "\n",
    "SUMMARIZER_PROMPT = \"Summarize the following legal content in a crisp manner with the important details kept intact. Only give the summary, without the starting  line Here is a crisp summary\"\n",
    "\n",
    "SUMMARIZER_MODEL = \"meta-llama/llama-4-scout-17b-16e-instruct\"\n",
    "\n",
    "logging.info(\"Model initialized with the instructed prompt\")"
   ]
  },
  {
   "cell_type": "code",
   "execution_count": 6,
   "id": "9545b7d5",
   "metadata": {},
   "outputs": [
    {
     "name": "stderr",
     "output_type": "stream",
     "text": [
      "INFO:httpx:HTTP Request: POST https://api.groq.com/openai/v1/chat/completions \"HTTP/1.1 200 OK\"\n",
      "INFO:httpx:HTTP Request: POST https://api.groq.com/openai/v1/chat/completions \"HTTP/1.1 200 OK\"\n",
      "INFO:httpx:HTTP Request: POST https://api.groq.com/openai/v1/chat/completions \"HTTP/1.1 200 OK\"\n",
      "INFO:httpx:HTTP Request: POST https://api.groq.com/openai/v1/chat/completions \"HTTP/1.1 200 OK\"\n",
      "INFO:httpx:HTTP Request: POST https://api.groq.com/openai/v1/chat/completions \"HTTP/1.1 200 OK\"\n",
      "INFO:httpx:HTTP Request: POST https://api.groq.com/openai/v1/chat/completions \"HTTP/1.1 200 OK\"\n",
      "INFO:httpx:HTTP Request: POST https://api.groq.com/openai/v1/chat/completions \"HTTP/1.1 200 OK\"\n",
      "INFO:httpx:HTTP Request: POST https://api.groq.com/openai/v1/chat/completions \"HTTP/1.1 200 OK\"\n",
      "INFO:httpx:HTTP Request: POST https://api.groq.com/openai/v1/chat/completions \"HTTP/1.1 200 OK\"\n",
      "INFO:httpx:HTTP Request: POST https://api.groq.com/openai/v1/chat/completions \"HTTP/1.1 200 OK\"\n",
      "INFO:httpx:HTTP Request: POST https://api.groq.com/openai/v1/chat/completions \"HTTP/1.1 200 OK\"\n",
      "INFO:httpx:HTTP Request: POST https://api.groq.com/openai/v1/chat/completions \"HTTP/1.1 200 OK\"\n",
      "INFO:httpx:HTTP Request: POST https://api.groq.com/openai/v1/chat/completions \"HTTP/1.1 200 OK\"\n",
      "INFO:httpx:HTTP Request: POST https://api.groq.com/openai/v1/chat/completions \"HTTP/1.1 200 OK\"\n",
      "INFO:httpx:HTTP Request: POST https://api.groq.com/openai/v1/chat/completions \"HTTP/1.1 200 OK\"\n",
      "INFO:root:Summaries generated for the legal content\n"
     ]
    }
   ],
   "source": [
    "summaries = []\n",
    "for idx in range(len(df['article_desc'])):\n",
    "    completion = client.chat.completions.create(\n",
    "    model=SUMMARIZER_MODEL,\n",
    "    messages=[\n",
    "      {\n",
    "        \"role\": \"user\",\n",
    "        \"content\": f\"{SUMMARIZER_PROMPT}: {df['article_desc'][idx]}\"\n",
    "      }\n",
    "    ],\n",
    "    temperature=1,\n",
    "    max_completion_tokens=1024,\n",
    "    top_p=1,\n",
    "    stream=True,\n",
    "    stop=None,\n",
    "    )\n",
    "\n",
    "\n",
    "    full_summary = \"\"\n",
    "    for chunk in completion:\n",
    "        if chunk.choices[0].delta.content:\n",
    "            full_summary += chunk.choices[0].delta.content\n",
    "\n",
    "    summaries.append(full_summary)\n",
    "\n",
    "logging.info(\"Summaries generated for the legal content\")"
   ]
  },
  {
   "cell_type": "code",
   "execution_count": 7,
   "id": "06fe79e0",
   "metadata": {},
   "outputs": [],
   "source": [
    "df['summary'] = summaries"
   ]
  },
  {
   "cell_type": "code",
   "execution_count": 20,
   "id": "75a8c7a9",
   "metadata": {},
   "outputs": [
    {
     "data": {
      "text/html": [
       "<div>\n",
       "<style scoped>\n",
       "    .dataframe tbody tr th:only-of-type {\n",
       "        vertical-align: middle;\n",
       "    }\n",
       "\n",
       "    .dataframe tbody tr th {\n",
       "        vertical-align: top;\n",
       "    }\n",
       "\n",
       "    .dataframe thead th {\n",
       "        text-align: right;\n",
       "    }\n",
       "</style>\n",
       "<table border=\"1\" class=\"dataframe\">\n",
       "  <thead>\n",
       "    <tr style=\"text-align: right;\">\n",
       "      <th></th>\n",
       "      <th>article_id</th>\n",
       "      <th>article_desc</th>\n",
       "      <th>summary</th>\n",
       "      <th>complete_desc</th>\n",
       "    </tr>\n",
       "  </thead>\n",
       "  <tbody>\n",
       "    <tr>\n",
       "      <th>0</th>\n",
       "      <td>Article 1 of Indian Constitution</td>\n",
       "      <td>Name and territory of the Union India, that is...</td>\n",
       "      <td>India, also known as Bharat, is a Union of Sta...</td>\n",
       "      <td>Article 1 of Indian ConstitutionName and terri...</td>\n",
       "    </tr>\n",
       "    <tr>\n",
       "      <th>1</th>\n",
       "      <td>Article 2 of Indian Constitution</td>\n",
       "      <td>Admission or establishment of new States: Parl...</td>\n",
       "      <td>Parliament may admit or establish new States t...</td>\n",
       "      <td>Article 2 of Indian ConstitutionAdmission or e...</td>\n",
       "    </tr>\n",
       "    <tr>\n",
       "      <th>2</th>\n",
       "      <td>Article 2A of Indian Constitution</td>\n",
       "      <td>Sikkim to be associated with the Union Rep by ...</td>\n",
       "      <td>Sikkim became an associated state with the Uni...</td>\n",
       "      <td>Article 2A of Indian ConstitutionSikkim to be ...</td>\n",
       "    </tr>\n",
       "    <tr>\n",
       "      <th>3</th>\n",
       "      <td>Article 3 of Indian Constitution</td>\n",
       "      <td>Formation of new States and alteration of area...</td>\n",
       "      <td>The Parliament can form new states or alter ex...</td>\n",
       "      <td>Article 3 of Indian ConstitutionFormation of n...</td>\n",
       "    </tr>\n",
       "    <tr>\n",
       "      <th>4</th>\n",
       "      <td>Article 4 of Indian Constitution</td>\n",
       "      <td>Laws made under Articles 2 and 3 to provide fo...</td>\n",
       "      <td>Laws made under Articles 2 and 3 to amend the ...</td>\n",
       "      <td>Article 4 of Indian ConstitutionLaws made unde...</td>\n",
       "    </tr>\n",
       "  </tbody>\n",
       "</table>\n",
       "</div>"
      ],
      "text/plain": [
       "                          article_id  \\\n",
       "0   Article 1 of Indian Constitution   \n",
       "1   Article 2 of Indian Constitution   \n",
       "2  Article 2A of Indian Constitution   \n",
       "3   Article 3 of Indian Constitution   \n",
       "4   Article 4 of Indian Constitution   \n",
       "\n",
       "                                        article_desc  \\\n",
       "0  Name and territory of the Union India, that is...   \n",
       "1  Admission or establishment of new States: Parl...   \n",
       "2  Sikkim to be associated with the Union Rep by ...   \n",
       "3  Formation of new States and alteration of area...   \n",
       "4  Laws made under Articles 2 and 3 to provide fo...   \n",
       "\n",
       "                                             summary  \\\n",
       "0  India, also known as Bharat, is a Union of Sta...   \n",
       "1  Parliament may admit or establish new States t...   \n",
       "2  Sikkim became an associated state with the Uni...   \n",
       "3  The Parliament can form new states or alter ex...   \n",
       "4  Laws made under Articles 2 and 3 to amend the ...   \n",
       "\n",
       "                                       complete_desc  \n",
       "0  Article 1 of Indian ConstitutionName and terri...  \n",
       "1  Article 2 of Indian ConstitutionAdmission or e...  \n",
       "2  Article 2A of Indian ConstitutionSikkim to be ...  \n",
       "3  Article 3 of Indian ConstitutionFormation of n...  \n",
       "4  Article 4 of Indian ConstitutionLaws made unde...  "
      ]
     },
     "execution_count": 20,
     "metadata": {},
     "output_type": "execute_result"
    }
   ],
   "source": [
    "df['complete_desc'] = df['article_id'] + df['article_desc']\n",
    "df.head(5)"
   ]
  },
  {
   "cell_type": "code",
   "execution_count": 21,
   "id": "31ccf881",
   "metadata": {},
   "outputs": [
    {
     "data": {
      "text/html": [
       "<div>\n",
       "<style scoped>\n",
       "    .dataframe tbody tr th:only-of-type {\n",
       "        vertical-align: middle;\n",
       "    }\n",
       "\n",
       "    .dataframe tbody tr th {\n",
       "        vertical-align: top;\n",
       "    }\n",
       "\n",
       "    .dataframe thead th {\n",
       "        text-align: right;\n",
       "    }\n",
       "</style>\n",
       "<table border=\"1\" class=\"dataframe\">\n",
       "  <thead>\n",
       "    <tr style=\"text-align: right;\">\n",
       "      <th></th>\n",
       "      <th>summary</th>\n",
       "      <th>complete_desc</th>\n",
       "    </tr>\n",
       "  </thead>\n",
       "  <tbody>\n",
       "    <tr>\n",
       "      <th>0</th>\n",
       "      <td>India, also known as Bharat, is a Union of Sta...</td>\n",
       "      <td>Article 1 of Indian ConstitutionName and terri...</td>\n",
       "    </tr>\n",
       "    <tr>\n",
       "      <th>1</th>\n",
       "      <td>Parliament may admit or establish new States t...</td>\n",
       "      <td>Article 2 of Indian ConstitutionAdmission or e...</td>\n",
       "    </tr>\n",
       "    <tr>\n",
       "      <th>2</th>\n",
       "      <td>Sikkim became an associated state with the Uni...</td>\n",
       "      <td>Article 2A of Indian ConstitutionSikkim to be ...</td>\n",
       "    </tr>\n",
       "    <tr>\n",
       "      <th>3</th>\n",
       "      <td>The Parliament can form new states or alter ex...</td>\n",
       "      <td>Article 3 of Indian ConstitutionFormation of n...</td>\n",
       "    </tr>\n",
       "    <tr>\n",
       "      <th>4</th>\n",
       "      <td>Laws made under Articles 2 and 3 to amend the ...</td>\n",
       "      <td>Article 4 of Indian ConstitutionLaws made unde...</td>\n",
       "    </tr>\n",
       "    <tr>\n",
       "      <th>5</th>\n",
       "      <td>Every person domiciled in India, who was born ...</td>\n",
       "      <td>Article 5 of Indian ConstitutionCitizenship at...</td>\n",
       "    </tr>\n",
       "    <tr>\n",
       "      <th>6</th>\n",
       "      <td>A person who migrated to India from Pakistan s...</td>\n",
       "      <td>Article 6 of Indian ConstitutionRights of citi...</td>\n",
       "    </tr>\n",
       "    <tr>\n",
       "      <th>7</th>\n",
       "      <td>A person who migrated from India to Pakistan a...</td>\n",
       "      <td>Article 7 of Indian ConstitutionRights of citi...</td>\n",
       "    </tr>\n",
       "    <tr>\n",
       "      <th>8</th>\n",
       "      <td>Certain persons of Indian origin residing outs...</td>\n",
       "      <td>Article 8 of Indian ConstitutionRights of citi...</td>\n",
       "    </tr>\n",
       "    <tr>\n",
       "      <th>9</th>\n",
       "      <td>No person shall be a citizen of India if they ...</td>\n",
       "      <td>Article 9 of Indian ConstitutionPerson volunta...</td>\n",
       "    </tr>\n",
       "    <tr>\n",
       "      <th>10</th>\n",
       "      <td>Citizenship rights continue for those deemed c...</td>\n",
       "      <td>Article 10 of Indian ConstitutionContinuance o...</td>\n",
       "    </tr>\n",
       "    <tr>\n",
       "      <th>11</th>\n",
       "      <td>Parliament has the power to regulate citizensh...</td>\n",
       "      <td>Article 11 of Indian ConstitutionParliament to...</td>\n",
       "    </tr>\n",
       "    <tr>\n",
       "      <th>12</th>\n",
       "      <td>The definition of \"State\" includes:\\n\\n* The G...</td>\n",
       "      <td>Article 12 of Indian ConstitutionDefinition In...</td>\n",
       "    </tr>\n",
       "    <tr>\n",
       "      <th>13</th>\n",
       "      <td>Laws inconsistent with fundamental rights are ...</td>\n",
       "      <td>Article 13 of Indian ConstitutionLaws inconsis...</td>\n",
       "    </tr>\n",
       "    <tr>\n",
       "      <th>14</th>\n",
       "      <td>The State ensures two key guarantees: \\n\\n1. *...</td>\n",
       "      <td>Article 14 of Indian ConstitutionEquality befo...</td>\n",
       "    </tr>\n",
       "  </tbody>\n",
       "</table>\n",
       "</div>"
      ],
      "text/plain": [
       "                                              summary  \\\n",
       "0   India, also known as Bharat, is a Union of Sta...   \n",
       "1   Parliament may admit or establish new States t...   \n",
       "2   Sikkim became an associated state with the Uni...   \n",
       "3   The Parliament can form new states or alter ex...   \n",
       "4   Laws made under Articles 2 and 3 to amend the ...   \n",
       "5   Every person domiciled in India, who was born ...   \n",
       "6   A person who migrated to India from Pakistan s...   \n",
       "7   A person who migrated from India to Pakistan a...   \n",
       "8   Certain persons of Indian origin residing outs...   \n",
       "9   No person shall be a citizen of India if they ...   \n",
       "10  Citizenship rights continue for those deemed c...   \n",
       "11  Parliament has the power to regulate citizensh...   \n",
       "12  The definition of \"State\" includes:\\n\\n* The G...   \n",
       "13  Laws inconsistent with fundamental rights are ...   \n",
       "14  The State ensures two key guarantees: \\n\\n1. *...   \n",
       "\n",
       "                                        complete_desc  \n",
       "0   Article 1 of Indian ConstitutionName and terri...  \n",
       "1   Article 2 of Indian ConstitutionAdmission or e...  \n",
       "2   Article 2A of Indian ConstitutionSikkim to be ...  \n",
       "3   Article 3 of Indian ConstitutionFormation of n...  \n",
       "4   Article 4 of Indian ConstitutionLaws made unde...  \n",
       "5   Article 5 of Indian ConstitutionCitizenship at...  \n",
       "6   Article 6 of Indian ConstitutionRights of citi...  \n",
       "7   Article 7 of Indian ConstitutionRights of citi...  \n",
       "8   Article 8 of Indian ConstitutionRights of citi...  \n",
       "9   Article 9 of Indian ConstitutionPerson volunta...  \n",
       "10  Article 10 of Indian ConstitutionContinuance o...  \n",
       "11  Article 11 of Indian ConstitutionParliament to...  \n",
       "12  Article 12 of Indian ConstitutionDefinition In...  \n",
       "13  Article 13 of Indian ConstitutionLaws inconsis...  \n",
       "14  Article 14 of Indian ConstitutionEquality befo...  "
      ]
     },
     "execution_count": 21,
     "metadata": {},
     "output_type": "execute_result"
    }
   ],
   "source": [
    "df.drop(labels=['article_id','article_desc'], axis = 1)"
   ]
  },
  {
   "cell_type": "markdown",
   "id": "aaac6266",
   "metadata": {},
   "source": [
    "##### Finetuning of Flant5-small"
   ]
  },
  {
   "cell_type": "code",
   "execution_count": 22,
   "id": "64a0957e",
   "metadata": {},
   "outputs": [],
   "source": [
    "from transformers import AutoTokenizer, AutoModelForSeq2SeqLM\n",
    "from datasets import Dataset"
   ]
  },
  {
   "cell_type": "code",
   "execution_count": 23,
   "id": "6beb764b",
   "metadata": {},
   "outputs": [],
   "source": [
    "dataset = Dataset.from_pandas(df[['complete_desc','summary']])"
   ]
  },
  {
   "cell_type": "code",
   "execution_count": 24,
   "id": "98dc4158",
   "metadata": {},
   "outputs": [],
   "source": [
    "model_id = \"google/flan-t5-small\"\n",
    "tokenizer = AutoTokenizer.from_pretrained(model_id)\n",
    "model = AutoModelForSeq2SeqLM.from_pretrained(model_id)"
   ]
  },
  {
   "cell_type": "code",
   "execution_count": 26,
   "id": "a2be0d24",
   "metadata": {},
   "outputs": [
    {
     "name": "stderr",
     "output_type": "stream",
     "text": [
      "Map:   0%|          | 0/15 [00:00<?, ? examples/s]d:\\LegalDigest\\.venv\\lib\\site-packages\\transformers\\tokenization_utils_base.py:3951: UserWarning: `as_target_tokenizer` is deprecated and will be removed in v5 of Transformers. You can tokenize your labels by using the argument `text_target` of the regular `__call__` method (either in the same call as your input texts if you use the same keyword arguments, or in a separate call.\n",
      "  warnings.warn(\n",
      "Map: 100%|██████████| 15/15 [00:00<00:00, 360.63 examples/s]\n"
     ]
    }
   ],
   "source": [
    "max_input_length = 512\n",
    "max_target_length = 512\n",
    "\n",
    "def preprocess(example):\n",
    "    inputs = \"summarize the legal document with the legal terms intact: \" + example['complete_desc']\n",
    "    model_inputs = tokenizer(inputs, max_length = max_input_length, truncation=True)\n",
    "\n",
    "    with tokenizer.as_target_tokenizer():\n",
    "        labels = tokenizer(example['summary'], max_length=max_target_length,truncation=True)\n",
    "    \n",
    "    model_inputs[\"labels\"] = labels['input_ids']\n",
    "    return model_inputs\n",
    "\n",
    "\n",
    "tokenized_dataset = dataset.map(preprocess, batched=False)"
   ]
  },
  {
   "cell_type": "code",
   "execution_count": 27,
   "id": "2d7e9025",
   "metadata": {},
   "outputs": [],
   "source": [
    "from transformers import Seq2SeqTrainingArguments, Seq2SeqTrainer, DataCollatorForSeq2Seq\n",
    "\n",
    "training_args = Seq2SeqTrainingArguments(\n",
    "    output_dir=\"./flan-t5-small-legal-finetuned\",\n",
    "    eval_strategy=\"epoch\",\n",
    "    learning_rate=2e-5,\n",
    "    fp16=True,\n",
    "    num_train_epochs=20,\n",
    "    weight_decay=0.01,\n",
    "    per_device_train_batch_size=2,\n",
    "    per_device_eval_batch_size=2\n",
    ")"
   ]
  },
  {
   "cell_type": "code",
   "execution_count": 28,
   "id": "03a8494b",
   "metadata": {},
   "outputs": [],
   "source": [
    "data_collator = DataCollatorForSeq2Seq(tokenizer=tokenizer, model=model)"
   ]
  },
  {
   "cell_type": "code",
   "execution_count": 30,
   "id": "e38aff00",
   "metadata": {},
   "outputs": [
    {
     "name": "stderr",
     "output_type": "stream",
     "text": [
      "d:\\LegalDigest\\.venv\\lib\\site-packages\\torch\\utils\\data\\dataloader.py:665: UserWarning: 'pin_memory' argument is set as true but no accelerator is found, then device pinned memory won't be used.\n",
      "  warnings.warn(warn_msg)\n"
     ]
    },
    {
     "data": {
      "text/html": [
       "\n",
       "    <div>\n",
       "      \n",
       "      <progress value='160' max='160' style='width:300px; height:20px; vertical-align: middle;'></progress>\n",
       "      [160/160 10:52, Epoch 20/20]\n",
       "    </div>\n",
       "    <table border=\"1\" class=\"dataframe\">\n",
       "  <thead>\n",
       " <tr style=\"text-align: left;\">\n",
       "      <th>Epoch</th>\n",
       "      <th>Training Loss</th>\n",
       "      <th>Validation Loss</th>\n",
       "    </tr>\n",
       "  </thead>\n",
       "  <tbody>\n",
       "    <tr>\n",
       "      <td>1</td>\n",
       "      <td>No log</td>\n",
       "      <td>2.099972</td>\n",
       "    </tr>\n",
       "    <tr>\n",
       "      <td>2</td>\n",
       "      <td>No log</td>\n",
       "      <td>2.014731</td>\n",
       "    </tr>\n",
       "    <tr>\n",
       "      <td>3</td>\n",
       "      <td>No log</td>\n",
       "      <td>1.932259</td>\n",
       "    </tr>\n",
       "    <tr>\n",
       "      <td>4</td>\n",
       "      <td>No log</td>\n",
       "      <td>1.871072</td>\n",
       "    </tr>\n",
       "    <tr>\n",
       "      <td>5</td>\n",
       "      <td>No log</td>\n",
       "      <td>1.821996</td>\n",
       "    </tr>\n",
       "    <tr>\n",
       "      <td>6</td>\n",
       "      <td>No log</td>\n",
       "      <td>1.772391</td>\n",
       "    </tr>\n",
       "    <tr>\n",
       "      <td>7</td>\n",
       "      <td>No log</td>\n",
       "      <td>1.730087</td>\n",
       "    </tr>\n",
       "    <tr>\n",
       "      <td>8</td>\n",
       "      <td>No log</td>\n",
       "      <td>1.694354</td>\n",
       "    </tr>\n",
       "    <tr>\n",
       "      <td>9</td>\n",
       "      <td>No log</td>\n",
       "      <td>1.663444</td>\n",
       "    </tr>\n",
       "    <tr>\n",
       "      <td>10</td>\n",
       "      <td>No log</td>\n",
       "      <td>1.633808</td>\n",
       "    </tr>\n",
       "    <tr>\n",
       "      <td>11</td>\n",
       "      <td>No log</td>\n",
       "      <td>1.609214</td>\n",
       "    </tr>\n",
       "    <tr>\n",
       "      <td>12</td>\n",
       "      <td>No log</td>\n",
       "      <td>1.588933</td>\n",
       "    </tr>\n",
       "    <tr>\n",
       "      <td>13</td>\n",
       "      <td>No log</td>\n",
       "      <td>1.571273</td>\n",
       "    </tr>\n",
       "    <tr>\n",
       "      <td>14</td>\n",
       "      <td>No log</td>\n",
       "      <td>1.556194</td>\n",
       "    </tr>\n",
       "    <tr>\n",
       "      <td>15</td>\n",
       "      <td>No log</td>\n",
       "      <td>1.543770</td>\n",
       "    </tr>\n",
       "    <tr>\n",
       "      <td>16</td>\n",
       "      <td>No log</td>\n",
       "      <td>1.533348</td>\n",
       "    </tr>\n",
       "    <tr>\n",
       "      <td>17</td>\n",
       "      <td>No log</td>\n",
       "      <td>1.525346</td>\n",
       "    </tr>\n",
       "    <tr>\n",
       "      <td>18</td>\n",
       "      <td>No log</td>\n",
       "      <td>1.519209</td>\n",
       "    </tr>\n",
       "    <tr>\n",
       "      <td>19</td>\n",
       "      <td>No log</td>\n",
       "      <td>1.515868</td>\n",
       "    </tr>\n",
       "    <tr>\n",
       "      <td>20</td>\n",
       "      <td>No log</td>\n",
       "      <td>1.514615</td>\n",
       "    </tr>\n",
       "  </tbody>\n",
       "</table><p>"
      ],
      "text/plain": [
       "<IPython.core.display.HTML object>"
      ]
     },
     "metadata": {},
     "output_type": "display_data"
    },
    {
     "name": "stderr",
     "output_type": "stream",
     "text": [
      "d:\\LegalDigest\\.venv\\lib\\site-packages\\torch\\utils\\data\\dataloader.py:665: UserWarning: 'pin_memory' argument is set as true but no accelerator is found, then device pinned memory won't be used.\n",
      "  warnings.warn(warn_msg)\n"
     ]
    },
    {
     "data": {
      "text/plain": [
       "TrainOutput(global_step=160, training_loss=1.9871181488037108, metrics={'train_runtime': 654.227, 'train_samples_per_second': 0.459, 'train_steps_per_second': 0.245, 'total_flos': 19705845768192.0, 'train_loss': 1.9871181488037108, 'epoch': 20.0})"
      ]
     },
     "execution_count": 30,
     "metadata": {},
     "output_type": "execute_result"
    }
   ],
   "source": [
    "trainer = Seq2SeqTrainer(\n",
    "    model=model,\n",
    "    args=training_args,\n",
    "    train_dataset=tokenized_dataset,\n",
    "    eval_dataset=tokenized_dataset,\n",
    "    processing_class=tokenizer,\n",
    "    data_collator=data_collator,\n",
    ")\n",
    "\n",
    "trainer.train()"
   ]
  },
  {
   "cell_type": "markdown",
   "id": "40ed793d",
   "metadata": {},
   "source": [
    "##### Use the fine-tuned model"
   ]
  },
  {
   "cell_type": "code",
   "execution_count": 35,
   "id": "c2be1d89",
   "metadata": {},
   "outputs": [
    {
     "name": "stdout",
     "output_type": "stream",
     "text": [
      "Generated Summary: The State shall not make any law which takes away or abridges the rights conferred by this Part and any law made in contravention of this clause shall, to the extent of the contravention, be void.\n"
     ]
    }
   ],
   "source": [
    "trainer.save_model(\"./flan-t5-small-legal-finetuned\")\n",
    "\n",
    "input_text = \"summarize: \" + df['complete_desc'][13]\n",
    "input_ids = tokenizer(input_text, return_tensors=\"pt\", truncation=True).input_ids\n",
    "output = model.generate(input_ids, max_length=512)\n",
    "print(\"Generated Summary:\", tokenizer.decode(output[0], skip_special_tokens=True))"
   ]
  },
  {
   "cell_type": "code",
   "execution_count": null,
   "id": "7331af3a",
   "metadata": {},
   "outputs": [],
   "source": []
  }
 ],
 "metadata": {
  "kernelspec": {
   "display_name": ".venv",
   "language": "python",
   "name": "python3"
  },
  "language_info": {
   "codemirror_mode": {
    "name": "ipython",
    "version": 3
   },
   "file_extension": ".py",
   "mimetype": "text/x-python",
   "name": "python",
   "nbconvert_exporter": "python",
   "pygments_lexer": "ipython3",
   "version": "3.10.6"
  }
 },
 "nbformat": 4,
 "nbformat_minor": 5
}
