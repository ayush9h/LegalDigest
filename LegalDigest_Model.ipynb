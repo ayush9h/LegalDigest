{
  "cells": [
    {
      "cell_type": "code",
      "execution_count": 2,
      "metadata": {
        "colab": {
          "base_uri": "https://localhost:8080/"
        },
        "id": "az31eMB5DZFu",
        "outputId": "1842cea5-9a86-4e4a-8598-f4739ab2eb0f"
      },
      "outputs": [],
      "source": [
        "# from google.colab import drive\n",
        "# drive.mount('/content/drive')"
      ]
    },
    {
      "cell_type": "markdown",
      "metadata": {
        "id": "ncikgNO-FoH9"
      },
      "source": [
        "## **Step-0: Importing Packages**"
      ]
    },
    {
      "cell_type": "code",
      "execution_count": 3,
      "metadata": {
        "id": "WkNNvXcpBmd3"
      },
      "outputs": [],
      "source": [
        "import pandas as pd\n",
        "import re\n",
        "import nltk\n",
        "from nltk.corpus import stopwords\n",
        "from nltk.tokenize import word_tokenize\n",
        "from nltk.stem.wordnet import WordNetLemmatizer\n",
        "from sklearn.model_selection import train_test_split\n",
        "import warnings\n",
        "import torch\n",
        "warnings.filterwarnings('ignore')"
      ]
    },
    {
      "cell_type": "code",
      "execution_count": 4,
      "metadata": {},
      "outputs": [
        {
          "data": {
            "text/plain": [
              "False"
            ]
          },
          "execution_count": 4,
          "metadata": {},
          "output_type": "execute_result"
        }
      ],
      "source": [
        "torch.cuda.is_available()"
      ]
    },
    {
      "cell_type": "code",
      "execution_count": 5,
      "metadata": {},
      "outputs": [
        {
          "data": {
            "text/plain": [
              "0"
            ]
          },
          "execution_count": 5,
          "metadata": {},
          "output_type": "execute_result"
        }
      ],
      "source": [
        "torch.cuda.device_count()"
      ]
    },
    {
      "cell_type": "code",
      "execution_count": 6,
      "metadata": {},
      "outputs": [],
      "source": [
        "# torch.cuda.get_device_name(0)"
      ]
    },
    {
      "cell_type": "code",
      "execution_count": 7,
      "metadata": {
        "colab": {
          "base_uri": "https://localhost:8080/"
        },
        "id": "o83WT0-YFmEI",
        "outputId": "a45d62a6-a42d-4095-e431-a44d3c2577ed"
      },
      "outputs": [
        {
          "name": "stderr",
          "output_type": "stream",
          "text": [
            "[nltk_data] Downloading package punkt to C:\\Users\\Ayush\n",
            "[nltk_data]     Kumar\\AppData\\Roaming\\nltk_data...\n",
            "[nltk_data]   Package punkt is already up-to-date!\n",
            "[nltk_data] Downloading package stopwords to C:\\Users\\Ayush\n",
            "[nltk_data]     Kumar\\AppData\\Roaming\\nltk_data...\n",
            "[nltk_data]   Package stopwords is already up-to-date!\n",
            "[nltk_data] Downloading package wordnet to C:\\Users\\Ayush\n",
            "[nltk_data]     Kumar\\AppData\\Roaming\\nltk_data...\n",
            "[nltk_data]   Package wordnet is already up-to-date!\n"
          ]
        },
        {
          "data": {
            "text/plain": [
              "True"
            ]
          },
          "execution_count": 7,
          "metadata": {},
          "output_type": "execute_result"
        }
      ],
      "source": [
        "nltk.download('punkt')\n",
        "nltk.download('stopwords')\n",
        "nltk.download('wordnet')"
      ]
    },
    {
      "cell_type": "code",
      "execution_count": 8,
      "metadata": {
        "colab": {
          "base_uri": "https://localhost:8080/",
          "height": 206
        },
        "id": "kFUItSe9Bn_P",
        "outputId": "4be20109-8ddc-4fb7-dd72-846c314ad7fe"
      },
      "outputs": [
        {
          "data": {
            "text/html": [
              "<div>\n",
              "<style scoped>\n",
              "    .dataframe tbody tr th:only-of-type {\n",
              "        vertical-align: middle;\n",
              "    }\n",
              "\n",
              "    .dataframe tbody tr th {\n",
              "        vertical-align: top;\n",
              "    }\n",
              "\n",
              "    .dataframe thead th {\n",
              "        text-align: right;\n",
              "    }\n",
              "</style>\n",
              "<table border=\"1\" class=\"dataframe\">\n",
              "  <thead>\n",
              "    <tr style=\"text-align: right;\">\n",
              "      <th></th>\n",
              "      <th>input</th>\n",
              "      <th>expected_output</th>\n",
              "    </tr>\n",
              "  </thead>\n",
              "  <tbody>\n",
              "    <tr>\n",
              "      <th>0</th>\n",
              "      <td>ujjagar singh the appellant herein a resident ...</td>\n",
              "      <td>FACTS\\nujjagar singh, the appellant herein, wa...</td>\n",
              "    </tr>\n",
              "    <tr>\n",
              "      <th>1</th>\n",
              "      <td>this appeal with special leave is directed aga...</td>\n",
              "      <td>FACTS\\nthis appeal with special leave is direc...</td>\n",
              "    </tr>\n",
              "    <tr>\n",
              "      <th>2</th>\n",
              "      <td>interpretation and or application of the provi...</td>\n",
              "      <td>FACTS\\nthe government of gujarat in exercise o...</td>\n",
              "    </tr>\n",
              "    <tr>\n",
              "      <th>3</th>\n",
              "      <td>the state of manipur is in appeal before us qu...</td>\n",
              "      <td>FACTS\\none shri a.j.tayeng was the revenue com...</td>\n",
              "    </tr>\n",
              "    <tr>\n",
              "      <th>4</th>\n",
              "      <td>these two appeals involve identical questions ...</td>\n",
              "      <td>FACTS\\nthe appellants question correctness of ...</td>\n",
              "    </tr>\n",
              "  </tbody>\n",
              "</table>\n",
              "</div>"
            ],
            "text/plain": [
              "                                               input  \\\n",
              "0  ujjagar singh the appellant herein a resident ...   \n",
              "1  this appeal with special leave is directed aga...   \n",
              "2  interpretation and or application of the provi...   \n",
              "3  the state of manipur is in appeal before us qu...   \n",
              "4  these two appeals involve identical questions ...   \n",
              "\n",
              "                                     expected_output  \n",
              "0  FACTS\\nujjagar singh, the appellant herein, wa...  \n",
              "1  FACTS\\nthis appeal with special leave is direc...  \n",
              "2  FACTS\\nthe government of gujarat in exercise o...  \n",
              "3  FACTS\\none shri a.j.tayeng was the revenue com...  \n",
              "4  FACTS\\nthe appellants question correctness of ...  "
            ]
          },
          "execution_count": 8,
          "metadata": {},
          "output_type": "execute_result"
        }
      ],
      "source": [
        "df = pd.read_csv(\"dataset.csv\")\n",
        "df.head(5)"
      ]
    },
    {
      "cell_type": "markdown",
      "metadata": {
        "id": "RUv5kPKpEWR0"
      },
      "source": [
        "## **Step-01: Trimming the dataset**"
      ]
    },
    {
      "cell_type": "code",
      "execution_count": 9,
      "metadata": {
        "id": "shgtkvk8CAby"
      },
      "outputs": [],
      "source": [
        "df.drop(df.index[25:49],axis = 0, inplace = True)"
      ]
    },
    {
      "cell_type": "code",
      "execution_count": 10,
      "metadata": {
        "colab": {
          "base_uri": "https://localhost:8080/"
        },
        "id": "2_U5EhJ5Dtgg",
        "outputId": "c69e719c-78e7-4f32-d353-86a6d060903e"
      },
      "outputs": [
        {
          "data": {
            "text/plain": [
              "(26, 2)"
            ]
          },
          "execution_count": 10,
          "metadata": {},
          "output_type": "execute_result"
        }
      ],
      "source": [
        "df.shape"
      ]
    },
    {
      "cell_type": "markdown",
      "metadata": {
        "id": "MkFRmClREZ5H"
      },
      "source": [
        "## **Step-02: Text Preprocessing**"
      ]
    },
    {
      "cell_type": "code",
      "execution_count": 11,
      "metadata": {
        "id": "xf8g0HTUEwY7"
      },
      "outputs": [],
      "source": [
        "#Converting to lower case\n",
        "df['input'] = df['input'].apply(lambda x: x.lower())\n",
        "df['expected_output'] = df['expected_output'].apply(lambda x: x.lower())"
      ]
    },
    {
      "cell_type": "code",
      "execution_count": 12,
      "metadata": {
        "colab": {
          "base_uri": "https://localhost:8080/",
          "height": 206
        },
        "id": "0nGGrPp1DwtU",
        "outputId": "82d626bf-2ff5-47f3-d403-81508566122e"
      },
      "outputs": [
        {
          "data": {
            "text/html": [
              "<div>\n",
              "<style scoped>\n",
              "    .dataframe tbody tr th:only-of-type {\n",
              "        vertical-align: middle;\n",
              "    }\n",
              "\n",
              "    .dataframe tbody tr th {\n",
              "        vertical-align: top;\n",
              "    }\n",
              "\n",
              "    .dataframe thead th {\n",
              "        text-align: right;\n",
              "    }\n",
              "</style>\n",
              "<table border=\"1\" class=\"dataframe\">\n",
              "  <thead>\n",
              "    <tr style=\"text-align: right;\">\n",
              "      <th></th>\n",
              "      <th>input</th>\n",
              "      <th>expected_output</th>\n",
              "    </tr>\n",
              "  </thead>\n",
              "  <tbody>\n",
              "    <tr>\n",
              "      <th>0</th>\n",
              "      <td>ujjagar singh the appellant herein a resident ...</td>\n",
              "      <td>facts\\nujjagar singh, the appellant herein, wa...</td>\n",
              "    </tr>\n",
              "    <tr>\n",
              "      <th>1</th>\n",
              "      <td>this appeal with special leave is directed aga...</td>\n",
              "      <td>facts\\nthis appeal with special leave is direc...</td>\n",
              "    </tr>\n",
              "    <tr>\n",
              "      <th>2</th>\n",
              "      <td>interpretation and or application of the provi...</td>\n",
              "      <td>facts\\nthe government of gujarat in exercise o...</td>\n",
              "    </tr>\n",
              "    <tr>\n",
              "      <th>3</th>\n",
              "      <td>the state of manipur is in appeal before us qu...</td>\n",
              "      <td>facts\\none shri a.j.tayeng was the revenue com...</td>\n",
              "    </tr>\n",
              "    <tr>\n",
              "      <th>4</th>\n",
              "      <td>these two appeals involve identical questions ...</td>\n",
              "      <td>facts\\nthe appellants question correctness of ...</td>\n",
              "    </tr>\n",
              "  </tbody>\n",
              "</table>\n",
              "</div>"
            ],
            "text/plain": [
              "                                               input  \\\n",
              "0  ujjagar singh the appellant herein a resident ...   \n",
              "1  this appeal with special leave is directed aga...   \n",
              "2  interpretation and or application of the provi...   \n",
              "3  the state of manipur is in appeal before us qu...   \n",
              "4  these two appeals involve identical questions ...   \n",
              "\n",
              "                                     expected_output  \n",
              "0  facts\\nujjagar singh, the appellant herein, wa...  \n",
              "1  facts\\nthis appeal with special leave is direc...  \n",
              "2  facts\\nthe government of gujarat in exercise o...  \n",
              "3  facts\\none shri a.j.tayeng was the revenue com...  \n",
              "4  facts\\nthe appellants question correctness of ...  "
            ]
          },
          "execution_count": 12,
          "metadata": {},
          "output_type": "execute_result"
        }
      ],
      "source": [
        "#Replacing punctuations with space\n",
        "import re\n",
        "df['input'] = df['input'].apply(lambda x: re.sub(r'[^\\w\\s]',' ',x))\n",
        "df.head(5)"
      ]
    },
    {
      "cell_type": "code",
      "execution_count": 13,
      "metadata": {
        "colab": {
          "base_uri": "https://localhost:8080/",
          "height": 206
        },
        "id": "i4vOEUboEmpB",
        "outputId": "332726f8-1ac0-4e6e-8ac7-81afa7f5d1a9"
      },
      "outputs": [
        {
          "data": {
            "text/html": [
              "<div>\n",
              "<style scoped>\n",
              "    .dataframe tbody tr th:only-of-type {\n",
              "        vertical-align: middle;\n",
              "    }\n",
              "\n",
              "    .dataframe tbody tr th {\n",
              "        vertical-align: top;\n",
              "    }\n",
              "\n",
              "    .dataframe thead th {\n",
              "        text-align: right;\n",
              "    }\n",
              "</style>\n",
              "<table border=\"1\" class=\"dataframe\">\n",
              "  <thead>\n",
              "    <tr style=\"text-align: right;\">\n",
              "      <th></th>\n",
              "      <th>input</th>\n",
              "      <th>expected_output</th>\n",
              "    </tr>\n",
              "  </thead>\n",
              "  <tbody>\n",
              "    <tr>\n",
              "      <th>0</th>\n",
              "      <td>ujjagar singh the appellant herein a resident ...</td>\n",
              "      <td>facts ujjagar singh  the appellant herein  was...</td>\n",
              "    </tr>\n",
              "    <tr>\n",
              "      <th>1</th>\n",
              "      <td>this appeal with special leave is directed aga...</td>\n",
              "      <td>facts this appeal with special leave is direct...</td>\n",
              "    </tr>\n",
              "    <tr>\n",
              "      <th>2</th>\n",
              "      <td>interpretation and or application of the provi...</td>\n",
              "      <td>facts the government of gujarat in exercise of...</td>\n",
              "    </tr>\n",
              "    <tr>\n",
              "      <th>3</th>\n",
              "      <td>the state of manipur is in appeal before us qu...</td>\n",
              "      <td>facts one shri a j tayeng was the revenue comm...</td>\n",
              "    </tr>\n",
              "    <tr>\n",
              "      <th>4</th>\n",
              "      <td>these two appeals involve identical questions ...</td>\n",
              "      <td>facts the appellants question correctness of t...</td>\n",
              "    </tr>\n",
              "  </tbody>\n",
              "</table>\n",
              "</div>"
            ],
            "text/plain": [
              "                                               input  \\\n",
              "0  ujjagar singh the appellant herein a resident ...   \n",
              "1  this appeal with special leave is directed aga...   \n",
              "2  interpretation and or application of the provi...   \n",
              "3  the state of manipur is in appeal before us qu...   \n",
              "4  these two appeals involve identical questions ...   \n",
              "\n",
              "                                     expected_output  \n",
              "0  facts ujjagar singh  the appellant herein  was...  \n",
              "1  facts this appeal with special leave is direct...  \n",
              "2  facts the government of gujarat in exercise of...  \n",
              "3  facts one shri a j tayeng was the revenue comm...  \n",
              "4  facts the appellants question correctness of t...  "
            ]
          },
          "execution_count": 13,
          "metadata": {},
          "output_type": "execute_result"
        }
      ],
      "source": [
        "#Removal of special characters with space(including \\n)\n",
        "df['expected_output'] = df['expected_output'].apply(lambda x: re.sub(r'[^a-zA-Z0-9]',' ',x))\n",
        "df.head(5)"
      ]
    },
    {
      "cell_type": "markdown",
      "metadata": {
        "id": "86O3WRfIFZui"
      },
      "source": [
        "## **Step-03: Tokenization**"
      ]
    },
    {
      "cell_type": "code",
      "execution_count": 14,
      "metadata": {
        "colab": {
          "base_uri": "https://localhost:8080/",
          "height": 206
        },
        "id": "4Eqf4cTbFRhp",
        "outputId": "8c70399c-7f5f-45ca-ce0b-4ae6251075ad"
      },
      "outputs": [
        {
          "data": {
            "text/html": [
              "<div>\n",
              "<style scoped>\n",
              "    .dataframe tbody tr th:only-of-type {\n",
              "        vertical-align: middle;\n",
              "    }\n",
              "\n",
              "    .dataframe tbody tr th {\n",
              "        vertical-align: top;\n",
              "    }\n",
              "\n",
              "    .dataframe thead th {\n",
              "        text-align: right;\n",
              "    }\n",
              "</style>\n",
              "<table border=\"1\" class=\"dataframe\">\n",
              "  <thead>\n",
              "    <tr style=\"text-align: right;\">\n",
              "      <th></th>\n",
              "      <th>input</th>\n",
              "      <th>expected_output</th>\n",
              "      <th>input_tokens</th>\n",
              "      <th>summary_tokens</th>\n",
              "    </tr>\n",
              "  </thead>\n",
              "  <tbody>\n",
              "    <tr>\n",
              "      <th>0</th>\n",
              "      <td>ujjagar singh the appellant herein a resident ...</td>\n",
              "      <td>facts ujjagar singh  the appellant herein  was...</td>\n",
              "      <td>[ujjagar, singh, the, appellant, herein, a, re...</td>\n",
              "      <td>[facts, ujjagar, singh, the, appellant, herein...</td>\n",
              "    </tr>\n",
              "    <tr>\n",
              "      <th>1</th>\n",
              "      <td>this appeal with special leave is directed aga...</td>\n",
              "      <td>facts this appeal with special leave is direct...</td>\n",
              "      <td>[this, appeal, with, special, leave, is, direc...</td>\n",
              "      <td>[facts, this, appeal, with, special, leave, is...</td>\n",
              "    </tr>\n",
              "    <tr>\n",
              "      <th>2</th>\n",
              "      <td>interpretation and or application of the provi...</td>\n",
              "      <td>facts the government of gujarat in exercise of...</td>\n",
              "      <td>[interpretation, and, or, application, of, the...</td>\n",
              "      <td>[facts, the, government, of, gujarat, in, exer...</td>\n",
              "    </tr>\n",
              "    <tr>\n",
              "      <th>3</th>\n",
              "      <td>the state of manipur is in appeal before us qu...</td>\n",
              "      <td>facts one shri a j tayeng was the revenue comm...</td>\n",
              "      <td>[the, state, of, manipur, is, in, appeal, befo...</td>\n",
              "      <td>[facts, one, shri, a, j, tayeng, was, the, rev...</td>\n",
              "    </tr>\n",
              "    <tr>\n",
              "      <th>4</th>\n",
              "      <td>these two appeals involve identical questions ...</td>\n",
              "      <td>facts the appellants question correctness of t...</td>\n",
              "      <td>[these, two, appeals, involve, identical, ques...</td>\n",
              "      <td>[facts, the, appellants, question, correctness...</td>\n",
              "    </tr>\n",
              "  </tbody>\n",
              "</table>\n",
              "</div>"
            ],
            "text/plain": [
              "                                               input  \\\n",
              "0  ujjagar singh the appellant herein a resident ...   \n",
              "1  this appeal with special leave is directed aga...   \n",
              "2  interpretation and or application of the provi...   \n",
              "3  the state of manipur is in appeal before us qu...   \n",
              "4  these two appeals involve identical questions ...   \n",
              "\n",
              "                                     expected_output  \\\n",
              "0  facts ujjagar singh  the appellant herein  was...   \n",
              "1  facts this appeal with special leave is direct...   \n",
              "2  facts the government of gujarat in exercise of...   \n",
              "3  facts one shri a j tayeng was the revenue comm...   \n",
              "4  facts the appellants question correctness of t...   \n",
              "\n",
              "                                        input_tokens  \\\n",
              "0  [ujjagar, singh, the, appellant, herein, a, re...   \n",
              "1  [this, appeal, with, special, leave, is, direc...   \n",
              "2  [interpretation, and, or, application, of, the...   \n",
              "3  [the, state, of, manipur, is, in, appeal, befo...   \n",
              "4  [these, two, appeals, involve, identical, ques...   \n",
              "\n",
              "                                      summary_tokens  \n",
              "0  [facts, ujjagar, singh, the, appellant, herein...  \n",
              "1  [facts, this, appeal, with, special, leave, is...  \n",
              "2  [facts, the, government, of, gujarat, in, exer...  \n",
              "3  [facts, one, shri, a, j, tayeng, was, the, rev...  \n",
              "4  [facts, the, appellants, question, correctness...  "
            ]
          },
          "execution_count": 14,
          "metadata": {},
          "output_type": "execute_result"
        }
      ],
      "source": [
        "# Tokenizing the input values\n",
        "df['input_tokens'] = df['input'].apply(lambda x: word_tokenize(x))\n",
        "\n",
        "# Tokenizing the expected summary values\n",
        "df['summary_tokens'] = df['expected_output'].apply(lambda x: word_tokenize(x))\n",
        "df.head(5)"
      ]
    },
    {
      "cell_type": "markdown",
      "metadata": {
        "id": "un7jWtK6GHlb"
      },
      "source": [
        "## **Step-04: Stopword Removal**\n"
      ]
    },
    {
      "cell_type": "code",
      "execution_count": 15,
      "metadata": {
        "colab": {
          "base_uri": "https://localhost:8080/"
        },
        "id": "Wu3Jwv1cF0AG",
        "outputId": "45833107-52fd-4806-ce8c-d1d37af90a6c"
      },
      "outputs": [
        {
          "name": "stdout",
          "output_type": "stream",
          "text": [
            "Original Length of Stopwords List: 179\n",
            "{'from', 'their', 'me', 'was', 'the', 'to', 'we', 'more', 'any', 'been', 'why', 'not', 'doesn', \"you'd\", 'has', 'were', 'during', 're', 'himself', 'these', 'hasn', 'her', 'his', 'ma', 'didn', 'for', 'did', 'and', 'don', 'each', 'weren', 'which', 'aren', 'how', 'against', 'is', 'few', 'hers', 'have', 'won', 'wouldn', 'such', 'will', \"it's\", 'both', 'other', \"doesn't\", \"needn't\", 'just', 'off', 'should', \"don't\", 'own', 't', 'o', 'ain', 'with', 'll', 'theirs', 'all', 'y', 'them', 'yourselves', \"haven't\", 'now', 'him', 'about', 'mightn', \"you've\", 'what', 'if', 'so', 'do', 'into', 'yours', 'doing', 'itself', 'no', 'mustn', 'they', 'haven', \"that'll\", 'as', \"hadn't\", 'once', 'further', 'below', \"wasn't\", 'above', 'or', 'there', \"couldn't\", 'while', 'herself', 'ourselves', 'shouldn', 'out', 'through', 'does', 'm', 'at', 'she', 'over', 'my', 'very', 'can', 'nor', 'because', 'am', 'it', 'of', 'but', 'shan', 'i', \"she's\", 'only', \"you're\", 'this', 'had', \"isn't\", 'by', 'most', 'd', 'on', 'a', 'then', 'up', \"aren't\", \"mustn't\", 'again', 'couldn', 'ours', 'yourself', 'isn', 'some', \"mightn't\", 'you', \"wouldn't\", 've', 'wasn', 'until', 'our', 'down', 'too', 'after', 'same', 'being', \"didn't\", \"hasn't\", \"won't\", 'he', \"you'll\", \"shouldn't\", 'your', 's', 'than', 'needn', 'where', \"shan't\", 'whom', 'here', 'having', \"weren't\", 'that', 'under', 'when', \"should've\", 'are', 'its', 'who', 'between', 'before', 'themselves', 'those', 'an', 'in', 'be', 'hadn', 'myself'}\n"
          ]
        }
      ],
      "source": [
        "stopwords_list = set(stopwords.words('english'))\n",
        "print(\"Original Length of Stopwords List:\",len(stopwords_list))\n",
        "print(stopwords_list)"
      ]
    },
    {
      "cell_type": "code",
      "execution_count": 16,
      "metadata": {
        "colab": {
          "base_uri": "https://localhost:8080/"
        },
        "id": "lXDocUrXGclh",
        "outputId": "642fc13c-91a4-40bb-cb05-8d3211bb53c6"
      },
      "outputs": [
        {
          "name": "stdout",
          "output_type": "stream",
          "text": [
            "New Length of Stopwords List: 154\n",
            "['from', 'their', 'me', 'was', 'the', 'to', 'we', 'more', 'any', 'been', 'doesn', \"you'd\", 'has', 'were', 'during', 're', 'himself', 'these', 'hasn', 'her', 'his', 'ma', 'didn', 'for', 'did', 'and', 'don', 'each', 'which', 'aren', 'against', 'is', 'few', 'hers', 'have', 'won', 'such', 'will', \"it's\", 'both', 'other', \"needn't\", 'just', 'off', 'own', 't', 'o', 'ain', 'with', 'll', 'theirs', 'all', 'y', 'them', 'yourselves', 'now', 'him', 'about', 'mightn', \"you've\", 'what', 'if', 'so', 'do', 'into', 'yours', 'doing', 'itself', 'no', 'they', 'haven', \"that'll\", 'as', 'once', 'further', 'below', 'above', 'or', 'there', 'while', 'herself', 'ourselves', 'out', 'through', 'does', 'm', 'at', 'she', 'over', 'my', 'very', 'can', 'nor', 'because', 'am', 'it', 'of', 'but', 'shan', 'i', \"she's\", 'only', \"you're\", 'this', 'had', \"isn't\", 'by', 'most', 'd', 'on', 'a', 'then', 'up', \"aren't\", 'again', 'couldn', 'ours', 'yourself', 'isn', 'some', 'you', 've', 'until', 'our', 'down', 'too', 'after', 'same', 'being', \"hasn't\", 'he', \"you'll\", 'your', 's', 'than', 'needn', \"shan't\", 'whom', 'here', 'having', 'that', 'under', 'are', 'its', 'who', 'between', 'before', 'themselves', 'those', 'an', 'in', 'be', 'hadn', 'myself']\n"
          ]
        }
      ],
      "source": [
        "# Trimming down the stopwords list\n",
        "exclude_words = [\"not\",\"don't\", 'should', \"should've\", \"mightn't\", 'mustn', \"mustn't\",'shouldn',\n",
        "                \"shouldn't\", 'wasn', \"wasn't\", 'weren', \"weren't\", \"won't\", 'wouldn', \"wouldn't\",\n",
        "                'when', 'where', 'why', 'how',\"couldn't\",\"didn't\",\"doesn't\",\"hadn't\",\"haven't\",]\n",
        "stopwords_list = list(filter(lambda x: x not in exclude_words,stopwords_list))\n",
        "print(\"New Length of Stopwords List:\",len(stopwords_list))\n",
        "print(stopwords_list)"
      ]
    },
    {
      "cell_type": "code",
      "execution_count": 17,
      "metadata": {
        "colab": {
          "base_uri": "https://localhost:8080/",
          "height": 206
        },
        "id": "g69ERT30HRXX",
        "outputId": "373d993e-1007-4879-f0e9-a0d26270c00d"
      },
      "outputs": [
        {
          "data": {
            "text/html": [
              "<div>\n",
              "<style scoped>\n",
              "    .dataframe tbody tr th:only-of-type {\n",
              "        vertical-align: middle;\n",
              "    }\n",
              "\n",
              "    .dataframe tbody tr th {\n",
              "        vertical-align: top;\n",
              "    }\n",
              "\n",
              "    .dataframe thead th {\n",
              "        text-align: right;\n",
              "    }\n",
              "</style>\n",
              "<table border=\"1\" class=\"dataframe\">\n",
              "  <thead>\n",
              "    <tr style=\"text-align: right;\">\n",
              "      <th></th>\n",
              "      <th>input</th>\n",
              "      <th>expected_output</th>\n",
              "      <th>input_tokens</th>\n",
              "      <th>summary_tokens</th>\n",
              "    </tr>\n",
              "  </thead>\n",
              "  <tbody>\n",
              "    <tr>\n",
              "      <th>0</th>\n",
              "      <td>ujjagar singh the appellant herein a resident ...</td>\n",
              "      <td>facts ujjagar singh  the appellant herein  was...</td>\n",
              "      <td>[ujjagar, singh, appellant, herein, resident, ...</td>\n",
              "      <td>[facts, ujjagar, singh, appellant, herein, tri...</td>\n",
              "    </tr>\n",
              "    <tr>\n",
              "      <th>1</th>\n",
              "      <td>this appeal with special leave is directed aga...</td>\n",
              "      <td>facts this appeal with special leave is direct...</td>\n",
              "      <td>[appeal, special, leave, directed, judgment, o...</td>\n",
              "      <td>[facts, appeal, special, leave, directed, judg...</td>\n",
              "    </tr>\n",
              "    <tr>\n",
              "      <th>2</th>\n",
              "      <td>interpretation and or application of the provi...</td>\n",
              "      <td>facts the government of gujarat in exercise of...</td>\n",
              "      <td>[interpretation, application, provisions, guja...</td>\n",
              "      <td>[facts, government, gujarat, exercise, power, ...</td>\n",
              "    </tr>\n",
              "    <tr>\n",
              "      <th>3</th>\n",
              "      <td>the state of manipur is in appeal before us qu...</td>\n",
              "      <td>facts one shri a j tayeng was the revenue comm...</td>\n",
              "      <td>[state, manipur, appeal, us, questioning, judg...</td>\n",
              "      <td>[facts, one, shri, j, tayeng, revenue, commiss...</td>\n",
              "    </tr>\n",
              "    <tr>\n",
              "      <th>4</th>\n",
              "      <td>these two appeals involve identical questions ...</td>\n",
              "      <td>facts the appellants question correctness of t...</td>\n",
              "      <td>[two, appeals, involve, identical, questions, ...</td>\n",
              "      <td>[facts, appellants, question, correctness, jud...</td>\n",
              "    </tr>\n",
              "  </tbody>\n",
              "</table>\n",
              "</div>"
            ],
            "text/plain": [
              "                                               input  \\\n",
              "0  ujjagar singh the appellant herein a resident ...   \n",
              "1  this appeal with special leave is directed aga...   \n",
              "2  interpretation and or application of the provi...   \n",
              "3  the state of manipur is in appeal before us qu...   \n",
              "4  these two appeals involve identical questions ...   \n",
              "\n",
              "                                     expected_output  \\\n",
              "0  facts ujjagar singh  the appellant herein  was...   \n",
              "1  facts this appeal with special leave is direct...   \n",
              "2  facts the government of gujarat in exercise of...   \n",
              "3  facts one shri a j tayeng was the revenue comm...   \n",
              "4  facts the appellants question correctness of t...   \n",
              "\n",
              "                                        input_tokens  \\\n",
              "0  [ujjagar, singh, appellant, herein, resident, ...   \n",
              "1  [appeal, special, leave, directed, judgment, o...   \n",
              "2  [interpretation, application, provisions, guja...   \n",
              "3  [state, manipur, appeal, us, questioning, judg...   \n",
              "4  [two, appeals, involve, identical, questions, ...   \n",
              "\n",
              "                                      summary_tokens  \n",
              "0  [facts, ujjagar, singh, appellant, herein, tri...  \n",
              "1  [facts, appeal, special, leave, directed, judg...  \n",
              "2  [facts, government, gujarat, exercise, power, ...  \n",
              "3  [facts, one, shri, j, tayeng, revenue, commiss...  \n",
              "4  [facts, appellants, question, correctness, jud...  "
            ]
          },
          "execution_count": 17,
          "metadata": {},
          "output_type": "execute_result"
        }
      ],
      "source": [
        "# For Input\n",
        "df['input_tokens'] = df['input_tokens'].apply(lambda x: [word for word in x if not word in stopwords_list])\n",
        "\n",
        "# For Output\n",
        "df['summary_tokens'] = df['summary_tokens'].apply(lambda x:[word for word in x if not word in stopwords_list])\n",
        "\n",
        "df.head(5)"
      ]
    },
    {
      "cell_type": "code",
      "execution_count": 18,
      "metadata": {},
      "outputs": [],
      "source": [
        "# Expanding the contractions(don't -> do not)\n",
        "\n",
        "import contractions\n",
        "\n",
        "def expand_contractions(tokens):\n",
        "    return [contractions.fix(token) for token in tokens]"
      ]
    },
    {
      "cell_type": "code",
      "execution_count": 19,
      "metadata": {},
      "outputs": [],
      "source": [
        "df['input_tokens'] = df['input_tokens'].apply(expand_contractions)\n",
        "df['summary_tokens'] = df['summary_tokens'].apply(expand_contractions)"
      ]
    },
    {
      "cell_type": "code",
      "execution_count": 20,
      "metadata": {},
      "outputs": [
        {
          "data": {
            "text/html": [
              "<div>\n",
              "<style scoped>\n",
              "    .dataframe tbody tr th:only-of-type {\n",
              "        vertical-align: middle;\n",
              "    }\n",
              "\n",
              "    .dataframe tbody tr th {\n",
              "        vertical-align: top;\n",
              "    }\n",
              "\n",
              "    .dataframe thead th {\n",
              "        text-align: right;\n",
              "    }\n",
              "</style>\n",
              "<table border=\"1\" class=\"dataframe\">\n",
              "  <thead>\n",
              "    <tr style=\"text-align: right;\">\n",
              "      <th></th>\n",
              "      <th>input</th>\n",
              "      <th>expected_output</th>\n",
              "      <th>input_tokens</th>\n",
              "      <th>summary_tokens</th>\n",
              "    </tr>\n",
              "  </thead>\n",
              "  <tbody>\n",
              "    <tr>\n",
              "      <th>0</th>\n",
              "      <td>ujjagar singh the appellant herein a resident ...</td>\n",
              "      <td>facts ujjagar singh  the appellant herein  was...</td>\n",
              "      <td>[ujjagar, singh, appellant, herein, resident, ...</td>\n",
              "      <td>[facts, ujjagar, singh, appellant, herein, tri...</td>\n",
              "    </tr>\n",
              "    <tr>\n",
              "      <th>1</th>\n",
              "      <td>this appeal with special leave is directed aga...</td>\n",
              "      <td>facts this appeal with special leave is direct...</td>\n",
              "      <td>[appeal, special, leave, directed, judgment, o...</td>\n",
              "      <td>[facts, appeal, special, leave, directed, judg...</td>\n",
              "    </tr>\n",
              "    <tr>\n",
              "      <th>2</th>\n",
              "      <td>interpretation and or application of the provi...</td>\n",
              "      <td>facts the government of gujarat in exercise of...</td>\n",
              "      <td>[interpretation, application, provisions, guja...</td>\n",
              "      <td>[facts, government, gujarat, exercise, power, ...</td>\n",
              "    </tr>\n",
              "    <tr>\n",
              "      <th>3</th>\n",
              "      <td>the state of manipur is in appeal before us qu...</td>\n",
              "      <td>facts one shri a j tayeng was the revenue comm...</td>\n",
              "      <td>[state, manipur, appeal, us, questioning, judg...</td>\n",
              "      <td>[facts, one, shri, j, tayeng, revenue, commiss...</td>\n",
              "    </tr>\n",
              "    <tr>\n",
              "      <th>4</th>\n",
              "      <td>these two appeals involve identical questions ...</td>\n",
              "      <td>facts the appellants question correctness of t...</td>\n",
              "      <td>[two, appeals, involve, identical, questions, ...</td>\n",
              "      <td>[facts, appellants, question, correctness, jud...</td>\n",
              "    </tr>\n",
              "  </tbody>\n",
              "</table>\n",
              "</div>"
            ],
            "text/plain": [
              "                                               input  \\\n",
              "0  ujjagar singh the appellant herein a resident ...   \n",
              "1  this appeal with special leave is directed aga...   \n",
              "2  interpretation and or application of the provi...   \n",
              "3  the state of manipur is in appeal before us qu...   \n",
              "4  these two appeals involve identical questions ...   \n",
              "\n",
              "                                     expected_output  \\\n",
              "0  facts ujjagar singh  the appellant herein  was...   \n",
              "1  facts this appeal with special leave is direct...   \n",
              "2  facts the government of gujarat in exercise of...   \n",
              "3  facts one shri a j tayeng was the revenue comm...   \n",
              "4  facts the appellants question correctness of t...   \n",
              "\n",
              "                                        input_tokens  \\\n",
              "0  [ujjagar, singh, appellant, herein, resident, ...   \n",
              "1  [appeal, special, leave, directed, judgment, o...   \n",
              "2  [interpretation, application, provisions, guja...   \n",
              "3  [state, manipur, appeal, us, questioning, judg...   \n",
              "4  [two, appeals, involve, identical, questions, ...   \n",
              "\n",
              "                                      summary_tokens  \n",
              "0  [facts, ujjagar, singh, appellant, herein, tri...  \n",
              "1  [facts, appeal, special, leave, directed, judg...  \n",
              "2  [facts, government, gujarat, exercise, power, ...  \n",
              "3  [facts, one, shri, j, tayeng, revenue, commiss...  \n",
              "4  [facts, appellants, question, correctness, jud...  "
            ]
          },
          "execution_count": 20,
          "metadata": {},
          "output_type": "execute_result"
        }
      ],
      "source": [
        "df.head(5)"
      ]
    },
    {
      "cell_type": "markdown",
      "metadata": {
        "id": "z9WRxBglIOh2"
      },
      "source": [
        "## **Step-05: Lemmatization**\n"
      ]
    },
    {
      "cell_type": "code",
      "execution_count": 21,
      "metadata": {
        "id": "sRRF6ZBVH06U"
      },
      "outputs": [],
      "source": [
        "lemmatizer = WordNetLemmatizer()"
      ]
    },
    {
      "cell_type": "code",
      "execution_count": 22,
      "metadata": {
        "id": "F2wEyUESIwCu"
      },
      "outputs": [],
      "source": [
        "# List of exceptions\n",
        "exceptions = ['rs','was','as','has','ms','vs']"
      ]
    },
    {
      "cell_type": "code",
      "execution_count": 23,
      "metadata": {
        "colab": {
          "base_uri": "https://localhost:8080/",
          "height": 206
        },
        "id": "He2fMz2mIddv",
        "outputId": "661f41bd-f371-4a3e-df2d-b11688ca5381"
      },
      "outputs": [
        {
          "data": {
            "text/html": [
              "<div>\n",
              "<style scoped>\n",
              "    .dataframe tbody tr th:only-of-type {\n",
              "        vertical-align: middle;\n",
              "    }\n",
              "\n",
              "    .dataframe tbody tr th {\n",
              "        vertical-align: top;\n",
              "    }\n",
              "\n",
              "    .dataframe thead th {\n",
              "        text-align: right;\n",
              "    }\n",
              "</style>\n",
              "<table border=\"1\" class=\"dataframe\">\n",
              "  <thead>\n",
              "    <tr style=\"text-align: right;\">\n",
              "      <th></th>\n",
              "      <th>input</th>\n",
              "      <th>expected_output</th>\n",
              "      <th>input_tokens</th>\n",
              "      <th>summary_tokens</th>\n",
              "    </tr>\n",
              "  </thead>\n",
              "  <tbody>\n",
              "    <tr>\n",
              "      <th>0</th>\n",
              "      <td>ujjagar singh the appellant herein a resident ...</td>\n",
              "      <td>facts ujjagar singh  the appellant herein  was...</td>\n",
              "      <td>ujjagar singh appellant herein resident villag...</td>\n",
              "      <td>fact ujjagar singh appellant herein tried conv...</td>\n",
              "    </tr>\n",
              "    <tr>\n",
              "      <th>1</th>\n",
              "      <td>this appeal with special leave is directed aga...</td>\n",
              "      <td>facts this appeal with special leave is direct...</td>\n",
              "      <td>appeal special leave directed judgment order l...</td>\n",
              "      <td>fact appeal special leave directed judgment or...</td>\n",
              "    </tr>\n",
              "    <tr>\n",
              "      <th>2</th>\n",
              "      <td>interpretation and or application of the provi...</td>\n",
              "      <td>facts the government of gujarat in exercise of...</td>\n",
              "      <td>interpretation application provision gujarat t...</td>\n",
              "      <td>fact government gujarat exercise power conferr...</td>\n",
              "    </tr>\n",
              "    <tr>\n",
              "      <th>3</th>\n",
              "      <td>the state of manipur is in appeal before us qu...</td>\n",
              "      <td>facts one shri a j tayeng was the revenue comm...</td>\n",
              "      <td>state manipur appeal u questioning judgment or...</td>\n",
              "      <td>fact one shri j tayeng revenue commissioner go...</td>\n",
              "    </tr>\n",
              "    <tr>\n",
              "      <th>4</th>\n",
              "      <td>these two appeals involve identical questions ...</td>\n",
              "      <td>facts the appellants question correctness of t...</td>\n",
              "      <td>two appeal involve identical question therefor...</td>\n",
              "      <td>fact appellant question correctness judgment r...</td>\n",
              "    </tr>\n",
              "  </tbody>\n",
              "</table>\n",
              "</div>"
            ],
            "text/plain": [
              "                                               input  \\\n",
              "0  ujjagar singh the appellant herein a resident ...   \n",
              "1  this appeal with special leave is directed aga...   \n",
              "2  interpretation and or application of the provi...   \n",
              "3  the state of manipur is in appeal before us qu...   \n",
              "4  these two appeals involve identical questions ...   \n",
              "\n",
              "                                     expected_output  \\\n",
              "0  facts ujjagar singh  the appellant herein  was...   \n",
              "1  facts this appeal with special leave is direct...   \n",
              "2  facts the government of gujarat in exercise of...   \n",
              "3  facts one shri a j tayeng was the revenue comm...   \n",
              "4  facts the appellants question correctness of t...   \n",
              "\n",
              "                                        input_tokens  \\\n",
              "0  ujjagar singh appellant herein resident villag...   \n",
              "1  appeal special leave directed judgment order l...   \n",
              "2  interpretation application provision gujarat t...   \n",
              "3  state manipur appeal u questioning judgment or...   \n",
              "4  two appeal involve identical question therefor...   \n",
              "\n",
              "                                      summary_tokens  \n",
              "0  fact ujjagar singh appellant herein tried conv...  \n",
              "1  fact appeal special leave directed judgment or...  \n",
              "2  fact government gujarat exercise power conferr...  \n",
              "3  fact one shri j tayeng revenue commissioner go...  \n",
              "4  fact appellant question correctness judgment r...  "
            ]
          },
          "execution_count": 23,
          "metadata": {},
          "output_type": "execute_result"
        }
      ],
      "source": [
        "df['input_tokens'] = df['input_tokens'].apply(lambda x: ' '.join([lemmatizer.lemmatize(i) for i in x]))\n",
        "df['summary_tokens'] = df['summary_tokens'].apply(lambda x: ' '.join([lemmatizer.lemmatize(i) for i in x]))\n",
        "\n",
        "df.head(5)"
      ]
    },
    {
      "cell_type": "markdown",
      "metadata": {
        "id": "kTaR9zpSKDiY"
      },
      "source": [
        "## **Step-06: Splitting and Modelling**"
      ]
    },
    {
      "cell_type": "code",
      "execution_count": 24,
      "metadata": {
        "colab": {
          "base_uri": "https://localhost:8080/",
          "height": 206
        },
        "id": "ujm0SWzgX1AW",
        "outputId": "a84c4898-68d2-4b8d-aad9-c98ae2a1ff1b"
      },
      "outputs": [
        {
          "data": {
            "text/html": [
              "<div>\n",
              "<style scoped>\n",
              "    .dataframe tbody tr th:only-of-type {\n",
              "        vertical-align: middle;\n",
              "    }\n",
              "\n",
              "    .dataframe tbody tr th {\n",
              "        vertical-align: top;\n",
              "    }\n",
              "\n",
              "    .dataframe thead th {\n",
              "        text-align: right;\n",
              "    }\n",
              "</style>\n",
              "<table border=\"1\" class=\"dataframe\">\n",
              "  <thead>\n",
              "    <tr style=\"text-align: right;\">\n",
              "      <th></th>\n",
              "      <th>input_tokens</th>\n",
              "      <th>summary_tokens</th>\n",
              "    </tr>\n",
              "  </thead>\n",
              "  <tbody>\n",
              "    <tr>\n",
              "      <th>0</th>\n",
              "      <td>ujjagar singh appellant herein resident villag...</td>\n",
              "      <td>fact ujjagar singh appellant herein tried conv...</td>\n",
              "    </tr>\n",
              "    <tr>\n",
              "      <th>1</th>\n",
              "      <td>appeal special leave directed judgment order l...</td>\n",
              "      <td>fact appeal special leave directed judgment or...</td>\n",
              "    </tr>\n",
              "    <tr>\n",
              "      <th>2</th>\n",
              "      <td>interpretation application provision gujarat t...</td>\n",
              "      <td>fact government gujarat exercise power conferr...</td>\n",
              "    </tr>\n",
              "    <tr>\n",
              "      <th>3</th>\n",
              "      <td>state manipur appeal u questioning judgment or...</td>\n",
              "      <td>fact one shri j tayeng revenue commissioner go...</td>\n",
              "    </tr>\n",
              "    <tr>\n",
              "      <th>4</th>\n",
              "      <td>two appeal involve identical question therefor...</td>\n",
              "      <td>fact appellant question correctness judgment r...</td>\n",
              "    </tr>\n",
              "  </tbody>\n",
              "</table>\n",
              "</div>"
            ],
            "text/plain": [
              "                                        input_tokens  \\\n",
              "0  ujjagar singh appellant herein resident villag...   \n",
              "1  appeal special leave directed judgment order l...   \n",
              "2  interpretation application provision gujarat t...   \n",
              "3  state manipur appeal u questioning judgment or...   \n",
              "4  two appeal involve identical question therefor...   \n",
              "\n",
              "                                      summary_tokens  \n",
              "0  fact ujjagar singh appellant herein tried conv...  \n",
              "1  fact appeal special leave directed judgment or...  \n",
              "2  fact government gujarat exercise power conferr...  \n",
              "3  fact one shri j tayeng revenue commissioner go...  \n",
              "4  fact appellant question correctness judgment r...  "
            ]
          },
          "execution_count": 24,
          "metadata": {},
          "output_type": "execute_result"
        }
      ],
      "source": [
        "df.drop(['input','expected_output'],axis = 1,inplace = True)\n",
        "df.head(5)"
      ]
    },
    {
      "cell_type": "code",
      "execution_count": 25,
      "metadata": {
        "id": "4lzGH4TLcVlO"
      },
      "outputs": [],
      "source": [
        "df.to_csv(r'new.csv')"
      ]
    },
    {
      "cell_type": "code",
      "execution_count": 26,
      "metadata": {
        "colab": {
          "base_uri": "https://localhost:8080/"
        },
        "id": "pEZtTxgWbGKh",
        "outputId": "cb8fe122-263f-43ef-c46b-229dcf42f018"
      },
      "outputs": [],
      "source": [
        "# !pip install transformers==4.30"
      ]
    },
    {
      "cell_type": "markdown",
      "metadata": {
        "id": "Rap4UTzRcX9B"
      },
      "source": [
        "#**Load the processed dataset from drive**"
      ]
    },
    {
      "cell_type": "code",
      "execution_count": 42,
      "metadata": {
        "colab": {
          "base_uri": "https://localhost:8080/",
          "height": 49,
          "referenced_widgets": [
            "b91e0ba5495a48f8bed371b9f849ecb3",
            "e814cf01a5b24bcd842a8b1cc53d4c9c",
            "033e64772dfe46c0ac24f72e3088dbc9",
            "8dafefa695c84f619a476b57c5579676",
            "13c3d1f23c2143389eb586dfc4c13a11",
            "1493932082994830af396473f6fe178c",
            "c1519d98abc24772a942c10ef2c18281",
            "36ebc32267f249cdaed908ab4d7710a5",
            "bfd46517d3454fdfa4283a15f0258bd6",
            "009eea282c344f079d3df5e1d5b12a67",
            "6ffb5a046b92411ea65343575047d85b"
          ]
        },
        "id": "AO-GN3AiXwpv",
        "outputId": "83eeb21d-08d8-4940-9442-c3b8d41ca098"
      },
      "outputs": [],
      "source": [
        "from datasets import load_dataset\n",
        "\n",
        "dataset_file = 'new.csv'\n",
        "\n",
        "dataset = load_dataset('csv', data_files=dataset_file, split='train')\n",
        "\n",
        "dataset = dataset.train_test_split(test_size=0.30)\n",
        "train_dataset = dataset['train']\n",
        "val_dataset = dataset['test']"
      ]
    },
    {
      "cell_type": "code",
      "execution_count": 43,
      "metadata": {},
      "outputs": [
        {
          "data": {
            "text/plain": [
              "Dataset({\n",
              "    features: ['Unnamed: 0', 'input_tokens', 'summary_tokens'],\n",
              "    num_rows: 8\n",
              "})"
            ]
          },
          "execution_count": 43,
          "metadata": {},
          "output_type": "execute_result"
        }
      ],
      "source": [
        "val_dataset"
      ]
    },
    {
      "cell_type": "code",
      "execution_count": 44,
      "metadata": {
        "id": "MAlT1pEMNaLe"
      },
      "outputs": [],
      "source": [
        "from transformers import AutoTokenizer, AutoModelForSeq2SeqLM\n",
        "import pprint\n",
        "\n",
        "pp = pprint.PrettyPrinter()"
      ]
    },
    {
      "cell_type": "code",
      "execution_count": 76,
      "metadata": {
        "colab": {
          "base_uri": "https://localhost:8080/"
        },
        "id": "ehqy02FsO6d1",
        "outputId": "3b76ff6e-3f24-4638-cae7-646d048c1d33"
      },
      "outputs": [],
      "source": [
        "# Loading the pre-trained model and its respective tokenizer\n",
        "model_id=\"google/flan-t5-base\"\n",
        "tokenizer = AutoTokenizer.from_pretrained(model_id)\n",
        "model = AutoModelForSeq2SeqLM.from_pretrained(model_id)\n"
      ]
    },
    {
      "cell_type": "code",
      "execution_count": 77,
      "metadata": {
        "colab": {
          "base_uri": "https://localhost:8080/"
        },
        "id": "M95bewW4Zpxe",
        "outputId": "f756e140-0f6b-4960-8722-c5bb3339b8a4"
      },
      "outputs": [
        {
          "name": "stdout",
          "output_type": "stream",
          "text": [
            "Max source length: 512\n"
          ]
        },
        {
          "data": {
            "application/vnd.jupyter.widget-view+json": {
              "model_id": "9d0bafab2f304436a7a29b122798e343",
              "version_major": 2,
              "version_minor": 0
            },
            "text/plain": [
              "Map:   0%|          | 0/26 [00:00<?, ? examples/s]"
            ]
          },
          "metadata": {},
          "output_type": "display_data"
        },
        {
          "name": "stdout",
          "output_type": "stream",
          "text": [
            "Max target length: 512\n"
          ]
        }
      ],
      "source": [
        "df = pd.read_csv(dataset_file)\n",
        "\n",
        "source_text = df['input_tokens']\n",
        "target_text = df['summary_tokens']\n",
        "\n",
        "from datasets import concatenate_datasets\n",
        "\n",
        "# The maximum total input sequence length after tokenization.\n",
        "# Sequences longer than this will be truncated, sequences shorter will be padded.\n",
        "tokenized_inputs = concatenate_datasets([dataset[\"train\"], dataset[\"test\"]]).map(lambda x: tokenizer(x[\"input_tokens\"], truncation=True), batched=True, remove_columns=[\"input_tokens\", \"summary_tokens\"])\n",
        "max_source_length = max([len(x) for x in tokenized_inputs[\"input_ids\"]])\n",
        "print(f\"Max source length: {max_source_length}\")\n",
        "\n",
        "# The maximum total sequence length for target text after tokenization.\n",
        "# Sequences longer than this will be truncated, sequences shorter will be padded.\"\n",
        "tokenized_targets = concatenate_datasets([dataset[\"train\"], dataset[\"test\"]]).map(lambda x: tokenizer(x[\"summary_tokens\"], truncation=True), batched=True, remove_columns=[\"input_tokens\", \"summary_tokens\"])\n",
        "max_target_length = max([len(x) for x in tokenized_targets[\"input_ids\"]])\n",
        "print(f\"Max target length: {max_target_length}\")\n"
      ]
    },
    {
      "cell_type": "code",
      "execution_count": 78,
      "metadata": {},
      "outputs": [
        {
          "data": {
            "text/html": [
              "<div>\n",
              "<style scoped>\n",
              "    .dataframe tbody tr th:only-of-type {\n",
              "        vertical-align: middle;\n",
              "    }\n",
              "\n",
              "    .dataframe tbody tr th {\n",
              "        vertical-align: top;\n",
              "    }\n",
              "\n",
              "    .dataframe thead th {\n",
              "        text-align: right;\n",
              "    }\n",
              "</style>\n",
              "<table border=\"1\" class=\"dataframe\">\n",
              "  <thead>\n",
              "    <tr style=\"text-align: right;\">\n",
              "      <th></th>\n",
              "      <th>Unnamed: 0</th>\n",
              "      <th>input_tokens</th>\n",
              "      <th>summary_tokens</th>\n",
              "    </tr>\n",
              "  </thead>\n",
              "  <tbody>\n",
              "    <tr>\n",
              "      <th>0</th>\n",
              "      <td>0</td>\n",
              "      <td>ujjagar singh appellant herein resident villag...</td>\n",
              "      <td>fact ujjagar singh appellant herein tried conv...</td>\n",
              "    </tr>\n",
              "    <tr>\n",
              "      <th>1</th>\n",
              "      <td>1</td>\n",
              "      <td>appeal special leave directed judgment order l...</td>\n",
              "      <td>fact appeal special leave directed judgment or...</td>\n",
              "    </tr>\n",
              "    <tr>\n",
              "      <th>2</th>\n",
              "      <td>2</td>\n",
              "      <td>interpretation application provision gujarat t...</td>\n",
              "      <td>fact government gujarat exercise power conferr...</td>\n",
              "    </tr>\n",
              "    <tr>\n",
              "      <th>3</th>\n",
              "      <td>3</td>\n",
              "      <td>state manipur appeal u questioning judgment or...</td>\n",
              "      <td>fact one shri j tayeng revenue commissioner go...</td>\n",
              "    </tr>\n",
              "    <tr>\n",
              "      <th>4</th>\n",
              "      <td>4</td>\n",
              "      <td>two appeal involve identical question therefor...</td>\n",
              "      <td>fact appellant question correctness judgment r...</td>\n",
              "    </tr>\n",
              "  </tbody>\n",
              "</table>\n",
              "</div>"
            ],
            "text/plain": [
              "   Unnamed: 0                                       input_tokens  \\\n",
              "0           0  ujjagar singh appellant herein resident villag...   \n",
              "1           1  appeal special leave directed judgment order l...   \n",
              "2           2  interpretation application provision gujarat t...   \n",
              "3           3  state manipur appeal u questioning judgment or...   \n",
              "4           4  two appeal involve identical question therefor...   \n",
              "\n",
              "                                      summary_tokens  \n",
              "0  fact ujjagar singh appellant herein tried conv...  \n",
              "1  fact appeal special leave directed judgment or...  \n",
              "2  fact government gujarat exercise power conferr...  \n",
              "3  fact one shri j tayeng revenue commissioner go...  \n",
              "4  fact appellant question correctness judgment r...  "
            ]
          },
          "execution_count": 78,
          "metadata": {},
          "output_type": "execute_result"
        }
      ],
      "source": [
        "df.head(5)"
      ]
    },
    {
      "cell_type": "code",
      "execution_count": 79,
      "metadata": {
        "colab": {
          "base_uri": "https://localhost:8080/",
          "height": 81,
          "referenced_widgets": [
            "aa2da4aecd564961b3339dae8d3d314b",
            "e061d59ecd84481ca93d8873987b18de",
            "2abb5419de00410e8765d0665961b86c",
            "d9c8a2346a1244308dd9c25248fc24b2",
            "6fd38be554c0411788e3effc89dc2ffb",
            "4c67aa65120e42999429c26d26052558",
            "668033658149491283f4413de246eb54",
            "f31d618c6d43407db100e81927b18762",
            "57bcf16223df4321a0c01d898e754b08",
            "9ecc85077ea44c579e6365c742658ae8",
            "1e66c81a128045b6a1d40183aa47a099",
            "08b15e6b99bc4d3197e4870de03b218d",
            "aaca4ed33cb94000a76abb8cda953a73",
            "4a5fe57d806744618d65cae5ba733cea",
            "585cced7ef0745fab5f36b062b7499fa",
            "8ee28dacf48f4e518691ac9ff3ca0d17",
            "a88da6334706471e9a0e6318f5c98485",
            "8bd925dfa71045e9b95382e6f0d99537",
            "4e5d7e1024444a918bbd89ff9957f7a6",
            "bef1f307c0a84852b532d48786aa55e5",
            "f394479455e44bcdb8656e0742a722e7",
            "d8d3a2bd7ad74bc8a531be1e41c9dec9"
          ]
        },
        "id": "7O-ujop_ZMRU",
        "outputId": "bc36c23d-d8cf-4e63-d963-8c39c912ac5f"
      },
      "outputs": [
        {
          "data": {
            "application/vnd.jupyter.widget-view+json": {
              "model_id": "7e8bae5db28647c2963ad481ad0170f3",
              "version_major": 2,
              "version_minor": 0
            },
            "text/plain": [
              "Map:   0%|          | 0/8 [00:00<?, ? examples/s]"
            ]
          },
          "metadata": {},
          "output_type": "display_data"
        },
        {
          "name": "stdout",
          "output_type": "stream",
          "text": [
            "Keys of tokenized dataset: ['Unnamed: 0', 'input_ids', 'attention_mask', 'labels']\n"
          ]
        }
      ],
      "source": [
        "def preprocess_function(sample, padding=\"max_length\"):\n",
        "    inputs = [\"summarize: \" + item[:512] for item in sample[\"input_tokens\"]]\n",
        "    model_inputs = tokenizer(inputs, max_length=max_source_length, padding=padding, truncation=True)\n",
        "    labels = tokenizer(text_target=sample[\"summary_tokens\"], max_length=max_target_length, padding=padding, truncation=True)\n",
        "\n",
        "    if padding == \"max_length\":\n",
        "        labels[\"input_ids\"] = [\n",
        "            [(l if l != tokenizer.pad_token_id else -100) for l in label] for label in labels[\"input_ids\"]\n",
        "        ]\n",
        "\n",
        "    model_inputs[\"labels\"] = labels[\"input_ids\"]\n",
        "    return model_inputs\n",
        "\n",
        "tokenized_dataset = dataset.map(preprocess_function, batched=True, remove_columns=[\"input_tokens\", \"summary_tokens\"])\n",
        "print(f\"Keys of tokenized dataset: {list(tokenized_dataset['train'].features)}\")\n"
      ]
    },
    {
      "cell_type": "code",
      "execution_count": 80,
      "metadata": {},
      "outputs": [
        {
          "name": "stderr",
          "output_type": "stream",
          "text": [
            "[nltk_data] Downloading package punkt to C:\\Users\\Ayush\n",
            "[nltk_data]     Kumar\\AppData\\Roaming\\nltk_data...\n",
            "[nltk_data]   Package punkt is already up-to-date!\n"
          ]
        }
      ],
      "source": [
        "import evaluate\n",
        "import nltk\n",
        "import numpy as np\n",
        "from nltk.tokenize import sent_tokenize\n",
        "nltk.download(\"punkt\")\n",
        "\n",
        "# Metric\n",
        "metric = evaluate.load(\"rouge\")\n",
        "\n",
        "# helper function to postprocess text\n",
        "def postprocess_text(preds, labels):\n",
        "    preds = [pred.strip() for pred in preds]\n",
        "    labels = [label.strip() for label in labels]\n",
        "\n",
        "    # rougeLSum expects newline after each sentence\n",
        "    preds = [\"\\n\".join(sent_tokenize(pred)) for pred in preds]\n",
        "    labels = [\"\\n\".join(sent_tokenize(label)) for label in labels]\n",
        "\n",
        "    return preds, labels\n",
        "\n",
        "def compute_metrics(eval_preds):\n",
        "    preds, labels = eval_preds\n",
        "    if isinstance(preds, tuple):\n",
        "        preds = preds[0]\n",
        "    decoded_preds = tokenizer.batch_decode(preds, skip_special_tokens=True)\n",
        "    # Replace -100 in the labels as we can't decode them.\n",
        "    labels = np.where(labels != -100, labels, tokenizer.pad_token_id)\n",
        "    decoded_labels = tokenizer.batch_decode(labels, skip_special_tokens=True)\n",
        "\n",
        "    # Some simple post-processing\n",
        "    decoded_preds, decoded_labels = postprocess_text(decoded_preds, decoded_labels)\n",
        "\n",
        "    result = metric.compute(predictions=decoded_preds, references=decoded_labels, use_stemmer=True)\n",
        "    result = {k: round(v, 2) for k, v in result.items()}  # Convert scores to percentages\n",
        "    prediction_lens = [np.count_nonzero(pred != tokenizer.pad_token_id) for pred in preds]\n",
        "    result[\"gen_len\"] = np.mean(prediction_lens)\n",
        "    return result\n",
        "\n"
      ]
    },
    {
      "cell_type": "code",
      "execution_count": 81,
      "metadata": {},
      "outputs": [],
      "source": [
        "from transformers import DataCollatorForSeq2Seq\n",
        "\n",
        "# we want to ignore tokenizer pad token in the loss\n",
        "label_pad_token_id = -100\n",
        "# Data collator\n",
        "data_collator = DataCollatorForSeq2Seq(\n",
        "    tokenizer,\n",
        "    model=model,\n",
        "    label_pad_token_id=label_pad_token_id,\n",
        "    pad_to_multiple_of=8\n",
        ")\n"
      ]
    },
    {
      "cell_type": "code",
      "execution_count": 82,
      "metadata": {},
      "outputs": [],
      "source": [
        "from transformers import Seq2SeqTrainer, Seq2SeqTrainingArguments\n",
        "\n",
        "# Define training args\n",
        "training_args = Seq2SeqTrainingArguments(\n",
        "    output_dir=\"./trained/model\",\n",
        "    per_device_train_batch_size=8,\n",
        "    per_device_eval_batch_size=8,\n",
        "    predict_with_generate=True,\n",
        "    fp16=False, \n",
        "    learning_rate=1e-4,\n",
        "    num_train_epochs=5,\n",
        "    logging_strategy=\"steps\",\n",
        "    logging_steps=500,\n",
        "    evaluation_strategy=\"epoch\",\n",
        "    save_strategy=\"epoch\",\n",
        "    save_total_limit=2,\n",
        "    load_best_model_at_end=True,\n",
        ")\n",
        "from huggingface_hub import HfFolder\n",
        "from transformers import Seq2SeqTrainer, Seq2SeqTrainingArguments\n",
        "\n",
        "\n",
        "# Define training args\n",
        "training_args = Seq2SeqTrainingArguments(\n",
        "    output_dir=\"./trained/model\",\n",
        "    per_device_train_batch_size=8,\n",
        "    per_device_eval_batch_size=8,\n",
        "    predict_with_generate=True,\n",
        "    fp16=False, \n",
        "    learning_rate=5e-5,\n",
        "    num_train_epochs=5,\n",
        "    logging_strategy=\"steps\",\n",
        "    logging_steps=500,\n",
        "    evaluation_strategy=\"epoch\",\n",
        "    save_strategy=\"epoch\",\n",
        "    save_total_limit=2,\n",
        "    load_best_model_at_end=True,\n",
        ")\n",
        "\n",
        "# Create Trainer instance\n",
        "trainer = Seq2SeqTrainer(\n",
        "    model=model,\n",
        "    args=training_args,\n",
        "    data_collator=data_collator,\n",
        "    train_dataset=tokenized_dataset[\"train\"],\n",
        "    eval_dataset=tokenized_dataset[\"test\"],\n",
        "    compute_metrics=compute_metrics,\n",
        ")\n"
      ]
    },
    {
      "cell_type": "code",
      "execution_count": 83,
      "metadata": {},
      "outputs": [
        {
          "data": {
            "application/vnd.jupyter.widget-view+json": {
              "model_id": "986eabc5a77d4bbb88c91e1c15a5c554",
              "version_major": 2,
              "version_minor": 0
            },
            "text/plain": [
              "  0%|          | 0/15 [00:00<?, ?it/s]"
            ]
          },
          "metadata": {},
          "output_type": "display_data"
        },
        {
          "name": "stderr",
          "output_type": "stream",
          "text": [
            "You're using a T5TokenizerFast tokenizer. Please note that with a fast tokenizer, using the `__call__` method is faster than using a method to encode the text followed by a call to the `pad` method to get a padded encoding.\n"
          ]
        }
      ],
      "source": [
        "trainer.train()"
      ]
    },
    {
      "cell_type": "code",
      "execution_count": 38,
      "metadata": {},
      "outputs": [],
      "source": [
        "tokenizer.save_pretrained(\"./trained/model\")\n",
        "model.save_pretrained(\"./trained/model\")"
      ]
    },
    {
      "cell_type": "code",
      "execution_count": 39,
      "metadata": {},
      "outputs": [
        {
          "data": {
            "application/vnd.jupyter.widget-view+json": {
              "model_id": "7621c084a8944da1ad33c118e7b9b329",
              "version_major": 2,
              "version_minor": 0
            },
            "text/plain": [
              "  0%|          | 0/1 [00:00<?, ?it/s]"
            ]
          },
          "metadata": {},
          "output_type": "display_data"
        },
        {
          "data": {
            "text/plain": [
              "{'eval_loss': 2.4621164798736572,\n",
              " 'eval_rouge1': 6.037,\n",
              " 'eval_rouge2': 4.988,\n",
              " 'eval_rougeL': 5.5817,\n",
              " 'eval_rougeLsum': 5.5709,\n",
              " 'eval_gen_len': 19.0,\n",
              " 'eval_runtime': 22.7002,\n",
              " 'eval_samples_per_second': 0.352,\n",
              " 'eval_steps_per_second': 0.044,\n",
              " 'epoch': 10.0}"
            ]
          },
          "execution_count": 39,
          "metadata": {},
          "output_type": "execute_result"
        }
      ],
      "source": [
        "trainer.evaluate()"
      ]
    },
    {
      "cell_type": "code",
      "execution_count": 40,
      "metadata": {},
      "outputs": [
        {
          "name": "stderr",
          "output_type": "stream",
          "text": [
            "Token indices sequence length is longer than the specified maximum sequence length for this model (5588 > 512). Running this sequence through the model will result in indexing errors\n"
          ]
        },
        {
          "name": "stdout",
          "output_type": "stream",
          "text": [
            "dialogue: \n",
            "appeal directed final judgment order dated 03 10 2007 passed high court judicature andhra pradesh hyderabad criminal appeal 436 2001 whereby high court dismissed appeal filed appellant herein confirmed judgment dated 19 03 2001 passed special judge c b case visakhapatnam c c 2 1998 brief fact appellant accused working head clerk traffic cadre section office senior divisional personnel officer south central railway vijayawada period april1992 november1997 nature duty appellant accused included dealing processing matter like promotion transfer seniority list roster list pay fixation promotion retirement resignation etc personnel one k rama rao complainant examined pw 1was posted yard point man grade station superintendent south central railway tanuku december1995 june1997 june1997due excess staff tanuku instructed report head quarter vijayawada accordingly when reported asked go back tanuku thereafter went back tanuku where subsequently transferred rajahmundry thereafter pw 1 made representation senior officer requesting posting vijayawada cheerala vetapalam tenali later pw 1 transferred vijayawada appellant accused dealing transfer complainant pw 1 met 05 11 1997 office pursue issuance said transfer order appellant accused asked come 10 11 1997 when met 10 11 1997the appellant asked come next day busy pay fixation work 11 11 1997again went office appellant could not find seat day e 13 11 1997when met appellant accused informed request transfer processed order ready placed p signature asked come next day e 14 11 1997and demanded r 200 releasing said office order daypw 1 reported matter writing inspector police central bureau investigation short cbivijayawada 14 11 1997a trap laid cbi official along panchas when accused demanded accepted sum r 200 illegal gratification caught red handed along money recovered right hand side pocket pant 15 11 1997at 7 30 fir registered inspector cbi visakhapatnam branch crime rc 20a97 vsp recording statement witness inspector police cbi visakhapatnam filed charge sheet 298 ytr dated 29 04 1998 appellant accused offence punishable section 7131dii read 132 prevention corruption act1988 hereinafter referred act court special judge cbi case visakhapatnam special judge cbi order dated 19 03 2001convicted appellant sentenced undergo rigorous imprisonment period six month pay fine r 500 default suffer simple imprisonment one month offence punishable you 7 act one year rigorous imprisonment fine r 500 default suffer simple imprisonment one month offence punishable you s 131d ii read 132 act g said order appellant accused filed criminal appeal 436 2001 high court andhra pradesh high court impugned judgment dated 03 10 2007 dismissed appeal filed appellant accused confirmed conviction passed trial court hence appellant accused preferred appeal way special leave petition court heard mr atm rangaramanujam learned senior counsel appellant mr harish chandra learned senior counsel respondent notice quantum sentence hearing aspect permissibility 28 01 2008this court consisting three honourable judge issued notice matter confining quantum sentence pursuance permitted mr rangaramanujam learned senior counsel appellant address argument confining quantum sentence imposed appellant accused stated narration fact appellant convicted you 7 act sentenced undergo rigorous imprisonment six month pay fine r 500 default simple imprisonment one month also convicted offence 131dii read 132 act sentenced undergo rigorous imprisonment one year fine r 500 default simple imprisonment one month trial court ordered sentence imprisonment shall run concurrently said conviction sentence affirmed high court confine limited extent notice dated 28 01 2008we hear side quantum sentence however mr rangaramanujam learned senior counsel appellant drawing attention recent judgment court yomeshbhai pranshankar bhatt v state gujarat2011 6 scc 312 2011 indlaw sc 370submitted spite limited notice court exercising jurisdiction you art 142 constitution order complete justice hearing matter finally go merit order passed trial court high court reported case appeal concurrent finding court convicting appellant you 302 ipc sentencing suffer imprisonment life slp stage court order dated 27 07 2009issued notice confined question whether petitioner guilty commission offence part 304 indian penal code1860 short ipc not you 302 ipc similar request made bench appellant entitled urge question including right urge should acquitted fact circumstance case court referred supreme court rules1966 framed you art 145 constitution also considered scope power you art 142 well order 47 rule 6 code civil procedure1908 short code deciding said question bench also considered scope 100 code entertaining second appeal show court considered plea appellant therein acquittal despite fact notice limited term order dated 27 07 2009 relevant point bench para 18clarified position reopened case entirety even though notice issued confining particular aspect permitting appellant therein argue case acquittal merit observed however make clear not universal practice case question whether court enlarge scope inquiry time final hearing depends fact circumstance case since fact case find appellant should heard point come aforesaid conclusion emphasis supplied clear bench clarified not laying law spite issuing notice confining particular aspect case hand quantum sentence party entitled urge point open case free without restriction matter fact last sentence para 18 make clear fact circumstance case permitted appellant urge point merit case hand noted appreciation oral documentary evidence led prosecution defence appreciation entire material court first instance e trial court convicted appellant sentenced mentioned high court appellate court analysed material discussed oral documentary evidence finding prosecution proved guilt accused beyond reasonable doubt concurred conclusion arrived trial court dismissed appeal appellant inasmuch court thoroughly discussed oral documentary evidence reference charge leveled appellant view limited order dated 28 01 2008 court issuing notice confining quantum sentence even applying analogy enunciated yomeshbhai 2011 indlaw sc 370 suprawe feel not case nature appellant should heard point consequently reject request learned senior counsel appearing appellant quantum sentence whether requires reduction mr rangaramanujam learned senior counsel appellant submitted inasmuch alleged incident took place 14 11 1997 14 year elapsed since amount r 200 said received appellant trivial nature also fact due said conviction sentence lost job leniency may shown sentence reduced period already undergone fairly admitted maximum period one year appellant served 52 day prison factual position let u consider whether request learned senior counsel appellant accepted sentence reduced period already undergone not dispute provision prevention corruption act1988 alone applicable since incident occurred 14 11 1997 e subsequent act 7 act relates public servant taking gratification legal remuneration respect official act said offence charge proved court option impose sentence imprisonment shall not le six month may extend five year also liable fine said section read public servant taking gratification legal remuneration respect official act whoever expecting public servant accepts obtains agrees accept attempt obtain person person gratification whatever legal remuneration motive reward forbearing official act showing forbearing show exercise official function favour disfavor person rendering attempting render service disservice person central government state government parliament legislature state local authority corporation government company referred cl c section 2or public servant whether named otherwise shall punishable imprisonment shall not le six month may extend five year shall also liable fine emphasis supplied 13 deal criminal misconduct public servant per sub 2 public servant commits criminal misconduct shall punishable imprisonment term shall not le one year may extend seven year shall also liable fine clarity reproduce said section hereunder criminal misconduct public servant 1 public servant said commit offence criminal misconduct habitually accepts obtains agrees accept attempt obtain person person gratification legal remuneration motive reward mentioned section 7 b habitually accepts obtains agrees accept attempt obtain person valuable thing without consideration consideration know inadequate person know likely concerned proceeding business transacted transacted connection official function public servant subordinate person know interest related person concerned c dishonestly fraudulently misappropriates otherwise convert use property entrusted control public servant allows person corrupt illegal mean obtains person valuable thing pecuniary advantage ii abusing position public servant obtains person valuable thing pecuniary advantage iii holding office public servant obtains person valuable thing pecuniary advantage without public interest e person behalf possession time period office possession public servant not satisfactorily account pecuniary resource property disproportionate known source income explanation purpose section known source income mean income received lawful source receipt intimated accordance provision law rule order time applicable public servant public servant commits criminal misconduct shall punishable imprisonment term shall not le one year may extend seven year shall also liable fine useful refer prevention corruption act1947 criminal misconduct available 13 1988 act dealt 5 1947 act 52 1947 act mandate public servant commits criminal misconduct shall punishable imprisonment term shall not le one year may extend seven year shall also liable fine however proviso sub 2 5 give power court special reason recorded writing impose sentence imprisonment le one year relaxation form proviso done away 1988 act put clear 1988 act offence you 7 proved punishable imprisonment shall not le six month case section 13it shall not le one year interpretation permissible circumstance pleaded reduction sentence order substantiate claim regard learned senior counsel appellant relied decision court bechaarbhai prajapati v state gujarat2008 11 scc 163 2008 indlaw sc 297 based requested court modify sentence extent period already undergone gone fact case true even cited decision appellant accused demanded r 250 paid accepted finally special judge framed charge offence punishable section 712131d read 132 act appellant therein convicted offence you 72 act appeal high court also dismissed thereafter challenged court court holding conclusion trial court high court not suffer infirmity considered alternative submission related harshness sentence case taking note fact occurrence took place nearly seven year back also fact appellant suffered custody six month considering aspect maintaining conviction court reduced sentence period already undergone since appellant therein convicted you 7 161 cr pc minimum sentence six month fact suffered custody six month course adopted court perfectly order not applied case hand wherein appellant undergone 52 day when minimum sentence six month you 7 one year you 13 learned senior counsel appellant submitted inasmuch incident occurred 14 11 1997 trial court convicted 19 03 2001 affirmed high court 03 10 2007at juncture e gap 14 year need retain sentence court not justified directing appellant serve remaining period long time dispute regard date occurrence date conviction passed trial court affirmed high court inasmuch conviction count confirmed court confined sentence part alone view minimum sentence prescribed you s 7 13 act view though long delay may ground reduction sentence case may not applicable case hand when statute prescribes minimum sentence accordingly reject said contention contended amount alleged received appellant accused r 200 also lost job conviction trial court though ground may attractive respect offence where minimum sentence not prescribed view reasoning earlier para not applied case hand request based delay appellant lost job undergone ordeal along etc lenient view taken case useful refer decision court state p v shambhu dayal nagar2006 8 scc 693 2006 indlaw sc 716 wherein held difficult accept prayer respondent lenient view taken case corruption public servant become gigantic problem spread everywhere facet public activity left unaffected stink corruption deep pervasive impact functioning entire country large scale corruption retard nation building activity everyone suffer count aptly observed swatantar singh v state haryana1997 4 scc 14 1997 indlaw sc 1061corruption corroding like cancerous lymph node vital vein body politics social fabric efficiency public service demoralising honest officer efficiency public service would improve when public servant devotes sincere attention duty diligently truthfully honestly devotes assiduously performance duty post reputation corrupt would gather thick unchaseable cloud around conduct officer gain notoriety much faster smoke art 142 applicability drawing attention art 142 constitution india learned senior counsel appellant vehemently submitted order complete justice court ample power reduce sentence even extent period already undergone order would beneficial party approaching court similar claim based art 142 negatived several decision court need refer latest decision court manish goel v rohini goel2010 4 scc 393 2010 indlaw sc 301 fact case party persuasion family member friend entered compromise prepared memorandum understanding dated 13 11 2009in proceeding pending mediation centre delhi agreed term condition incorporated therein settle dispute also dissolution marriage party filed application section 13 b1 hindu marriage act1955 family court delhi seeking divorce mutual consent said hma 456 2009 came court recorded statement party 16 11 2009 party moved another hma 457 2009 waive statutory period six month filing second petition however court rejected said application vide order dated 01 12 2009 observing court not competent waive required statutory period six month act waiver permissible direction supreme court held court anil kumar jain v maya jain2009 10 scc 415 2009 indlaw sc 1494 hence party approached court appropriate relief speaking bench one u dr justice b chauhan referred fifty decision including constitution bench judgment relevant para useful may quoted fully alive fact court exercising power you art 142 constitution dissolution marriage where court find marriage totally unworkable emotionally dead beyond salvage broken irretrievably even fact case not provide ground law divorce could granted decree divorce granted put quietus litigation party save agony evident judgment romesh chander v savitri 1995 2 scc 7 1995 indlaw sc 329kanchan devi v promod kumar mittal 1996 8 scc 90 1996 indlaw sc 2663anita sabharwal v anil sabharwal 1997 11 scc 490 1996 indlaw sc 4162ashok hurra v rupa bipin zaveri 1997 4 scc 226 1997 indlaw sc 2568kiran v sharad dutt 2000 10 scc 243 1999 indlaw sc 2077swati verma v rajan verma 2004 1 scc 123 2003 indlaw sc 967harpit singh anand v state w b 2004 10 scc 505 2003 indlaw sc 810jimmy sudarshan purohit v sudarshan sharad purohit 2005 13 scc 410 2004 indlaw sc 2040durga prasanna tripathy v arundhati tripathy 2005 7 scc 353 2005 indlaw sc 486naveen kohli v neelu kohli 2006 4 scc 558 2006 indlaw sc 598sanghamitra ghosh v kajal kumar ghosh 2007 2 scc 220 2006 indlaw sc 775rishikesh sharma v saroj sharma 2007 2 scc 263 2006 indlaw sc 994samar ghosh v jaya ghosh 2007 4 scc 511 2007 indlaw sc 1000 satish sitole ganga 2008 7 scc 734 2008 indlaw sc 1077 however case where court came rescue party ground divorce not provided legislature statute anjana kishore v puneet kishore 2002 10 scc 194 2001 indlaw sc 21204this court allowing transfer petition directed court concerned decide case divorce mutual consent ignoring statutory requirement moving motion expiry period six month section 13 b2 act anil kumar jain court held order waiving statutory requirement passed court exercise power you art 142 constitution said power not vested court however also noticed various judgment court taking contrary view effect case legal ground grant divorce missing exercising power tantamounts legislation thus transgression power legislature not permissible law vide chetan das v kamla devi 2001 4 scc 250 2001 indlaw sc 20206 vishnu dutt sharma manju sharma 2009 6 scc 379 2009 indlaw sc 330 generally court competence issue direction contrary law court direct authority act contravention statutory provision court meant enforce rule law not pas order direction contrary injected law vide state punjab v renuka singla 1996 8 scc 90 1996 indlaw sc 2663state you p v harish chandra 1996 9 scc 309 1996 indlaw sc 157union india v kirloskar pneumatic co ltd 1996 4 scc 453 1996 indlaw sc 131 university allahabad v dr anand prakash mishra 1997 10 scc 264 1996 indlaw sc 2036 karnataka srtc v ashrafulla khan 2002 2 scc 560 2002 indlaw sc 21 constitution bench court prem chand garg v excise commr air 1963 sc 996 1962 indlaw sc 473 held order court make order complete justice party must not consistent fundamental right guaranteed constitution not even inconsistent substantive provision relevant statutory law emphasis supplied constitution bench court supreme court bar assn v union india 1998 4 scc 409 1998 indlaw sc 688 e p rajaram v union india 2001 2 scc 186 2001 indlaw sc 20411 held you art 142 constitution court not altogether ignore substantive provision statute pas order concerning issue settled mechanism prescribed another statute not exercised case where basis law form edifice building superstructure similar view reiterated r antulay v r nayak 1988 2 scc 602 1988 indlaw sc 467bonkya v state maharashtra 1995 6 scc 447 1995 indlaw sc 1282common because v union india 1999 6 scc 667 1999 indlaw sc 503m ahlawat v state haryana 2000 1 scc 278 1999 indlaw sc 794m c mehta v kamal nath 2000 6 scc 213 2000 indlaw sc 529state punjab v rajesh syal 2002 8 scc 158 2002 indlaw sc 1146govt w b v tarun k roy 2004 1 scc 347 2003 indlaw sc 1039textile labour assn v official liquidator 2004 9 scc 741 2004 indlaw sc 277state karnataka ameerbi 2007 11 scc 681 2006 indlaw sc 999union india v shardindu 2007 6 scc 276 2007 indlaw sc 537 bharat sewa sansthan v you p electronics corpn ltd 2007 7 scc 737 2007 indlaw sc 1580 teri oat estate p ltd v ut chandigarh 2004 2 scc 130 2003 indlaw sc 1504 court held sympathy sentiment not ground passing order relation whereto appellant miserably fail establish legal right despite extraordinary constitutional jurisdiction contained art 142 constitution india court ordinarily would not pas order would contravention statutory provision laxmidas morarji v behrose darab madan 2009 10 scc 425 2009 indlaw sc 1154while dealing provision art 142 constitution court held power you art 142 constitution constitutional power hence not restricted statutory enactment though supreme court would not pas order you art 142 constitution would amount supplanting substantive law applicable ignoring express statutory provision dealing subject time constitutional power not way controlled statutory provision however made clear power not used supplant law applicable case mean acting article 142the supreme court not pas order grant relief totally inconsistent go substantive statutory enactment pertaining case power used sparingly case not effectively appropriately tackled existing provision law when existing provision law not bring complete justice party emphasis added elaborately discussing almost case law subject jurisdiction court article 142summarised following word therefore law regard summarised effect exercise power you art 142 constitution court generally not pas order contravention ignoring statutory provision power exercised merely sympathy saying court rejected request party waive statutory period six month act mota ram v state haryana2009 12 scc 727 2009 indlaw sc 682this court reiterating principle concluded art 142 not exercised negate statutory provision academy nutrition improvement others v union india jt 2011 8 sc 16 2011 indlaw sc 515the following conclusion applicability art 142 relevant question held rule 44i invalid whether permit continuation ban sale non iodised salt human consumption period art 142 constitution vest unfettered independent jurisdiction pas order public interest complete justice exercise jurisdiction not contrary express provision law supreme court bar association v union india 1998 4 scc 409 1998 indlaw sc 688this court observed supreme court exercise jurisdiction you art 142 power make order necessary complete justice party because matter pending nature power must lead court set limit within exercise power ordinarily not disregard statutory provision governing subject except perhaps balance equity conflicting claim litigating party ironing crease because matter indeed court not court restricted jurisdiction dispute settling well recognised established court always law maker role travel beyond merely dispute settling problem solver nebulous area see k veeraswami v union india 1991 3 scc 655 1991 indlaw sc 711but substantive statutory provision dealing subject matter given case not altogether ignored court making order you art 142 indeed constitutional power not way controlled statutory provision time power not meant exercised when exercise may come directly conflict expressly provided statute dealing expressly subject kalyan chandra sarkar v rajesh ranjan 2005 3 scc 284 2005 indlaw sc 93this court reiterating court exercise jurisdiction you art 142 constitution would not pas order would amount supplanting substantive law applicable case ignoring express statutory provision dealing subject observed follows may therefore understood plenary power court you art 142 constitution inherent court complementary power specifically conferred court various statute though not limited statute power also exist independent statute view complete justice party nature supplementary power may put different perhaps even wider footing ordinary inherent power court prevent injustice advantage derived constitutional provision couched wide compass prevents clogging obstruction stream justice see supreme court bar association 1998 indlaw sc 688 supra though jurisdiction court you art 142 constitution india not dispute make clear exercise power would however depend fact circumstance case high court exercise jurisdiction you 482 criminal procedure code court you art 142 constitution would not ordinarily direct quashing case involving crime society particularly when trial court also high court found charge leveled appellant act made proved prosecution placing acceptable evidence finally learned senior counsel appellant cited certain order court wherein court reduced period sentence already undergone upholding conviction perused order order not disclose factual detail relevant provision accused charged convicted minimum sentence available act well period already undergone absence detail unable rely order analysis decision concerned provision concerned following principle emerge when court issue notice confining particular aspect sentence argument heard extent unless extraordinary circumstance material shown court arguing matter aspect long delay disposal appeal factor may not ground reduction sentence particularly when statute prescribes minimum sentence case where minimum sentence prescribed open court consider delay effect ultimate decision case corruption public servant quantum amount immaterial ultimately depends upon conduct delinquent proof regarding demand acceptance established prosecution merely delinquent lost job due conviction act may not mitigating circumstance reduction sentence particularly when statute prescribes minimum sentence though art 142 constitution give wider power court waiver certain period prescribed statute imposing lesser sentence minimum prescribed not permissible order court make order complete justice party must not consistent fundamental right guaranteed constitution also not even inconsistent substantive provision relevant statute word court not altogether ignore substantive provision statute g exercise power you art 142 constitution court generally not pas order contravention ignoring statutory provision power exercised merely sympathy h power you art 142 constitution constitutional power not restricted statutory enactment however court would not pas order you art 142 would amount supplant substantive law applicable ignoring statutory provision dealing subject word acting article 142this court not pas order grant relief totally inconsistent go substantive statutory enactment pertaining case power you art 142 not meant exercised when exercise may come directly conflict expressly provided statute dealing expressly subject light discussion unable accept contention raised learned senior counsel appellant hand entire agreement conclusion arrived trial judge affirmed high court consequently appeal fails dismissed since appellant bail bail bond executed stand cancelled trial judge directed secure presence serving remaining period sentence appeal dismissed\n",
            "---------------\n",
            "3664\n",
            "flan-t5-base summary:\n",
            "appeal dismissed appeal filed appellant herein confirmed judgment dated 19 03 2001 passed special judge c b case visakhapatnam c 2 1998 brief fact appellant accused working head clerk traffic cadre section office senior divisional personnel officer south central railway vijayawada period april1992 november1997 nature duty appealant accused included dealing processing matter like promotion transfer seniority list roster list pay fixation promotion retirement resignation etc personnel one k rama rao complainant examined pw 1was posted yard point man grade station superintendent south Central railway tanuku december1995 june1997 natura duty appellant dismissed included dealing handling matter like promotions transfer seniorness list roster count pay fixations promotion retirement retirement resignationetc personnel onek ram r ao complainedt examined apw 01 was posted atm rangaramanujam learned senior counsel appellant mr \n",
            "126\n"
          ]
        }
      ],
      "source": [
        "from transformers import pipeline\n",
        "\n",
        "summarizer = pipeline(\"summarization\", model=\"./trained/model\", device=torch.device('cpu'))\n",
        "\n",
        "# select a random test sample\n",
        "sample = dataset['test'][4]\n",
        "print(f\"dialogue: \\n{sample['input_tokens']}\\n---------------\")\n",
        "print(len(sample['input_tokens'].split()))\n",
        "\n",
        "# summarize dialogue\n",
        "res = summarizer(sample[\"input_tokens\"])\n",
        "\n",
        "print(f\"flan-t5-base summary:\\n{res[0]['summary_text']}\")\n",
        "print(len(res[0]['summary_text'].split()))\n"
      ]
    },
    {
      "cell_type": "code",
      "execution_count": 41,
      "metadata": {},
      "outputs": [
        {
          "name": "stdout",
          "output_type": "stream",
          "text": [
            "3664\n",
            "1271\n"
          ]
        }
      ],
      "source": [
        "print(len(dataset[\"test\"][4]['input_tokens'].split()))\n",
        "print(len(dataset[\"test\"][4]['summary_tokens'].split()))"
      ]
    },
    {
      "cell_type": "code",
      "execution_count": null,
      "metadata": {},
      "outputs": [],
      "source": []
    }
  ],
  "metadata": {
    "colab": {
      "provenance": []
    },
    "kernelspec": {
      "display_name": "Python 3",
      "name": "python3"
    },
    "language_info": {
      "codemirror_mode": {
        "name": "ipython",
        "version": 3
      },
      "file_extension": ".py",
      "mimetype": "text/x-python",
      "name": "python",
      "nbconvert_exporter": "python",
      "pygments_lexer": "ipython3",
      "version": "3.10.6"
    },
    "widgets": {
      "application/vnd.jupyter.widget-state+json": {
        "009eea282c344f079d3df5e1d5b12a67": {
          "model_module": "@jupyter-widgets/base",
          "model_module_version": "1.2.0",
          "model_name": "LayoutModel",
          "state": {
            "_model_module": "@jupyter-widgets/base",
            "_model_module_version": "1.2.0",
            "_model_name": "LayoutModel",
            "_view_count": null,
            "_view_module": "@jupyter-widgets/base",
            "_view_module_version": "1.2.0",
            "_view_name": "LayoutView",
            "align_content": null,
            "align_items": null,
            "align_self": null,
            "border": null,
            "bottom": null,
            "display": null,
            "flex": null,
            "flex_flow": null,
            "grid_area": null,
            "grid_auto_columns": null,
            "grid_auto_flow": null,
            "grid_auto_rows": null,
            "grid_column": null,
            "grid_gap": null,
            "grid_row": null,
            "grid_template_areas": null,
            "grid_template_columns": null,
            "grid_template_rows": null,
            "height": null,
            "justify_content": null,
            "justify_items": null,
            "left": null,
            "margin": null,
            "max_height": null,
            "max_width": null,
            "min_height": null,
            "min_width": null,
            "object_fit": null,
            "object_position": null,
            "order": null,
            "overflow": null,
            "overflow_x": null,
            "overflow_y": null,
            "padding": null,
            "right": null,
            "top": null,
            "visibility": null,
            "width": null
          }
        },
        "033e64772dfe46c0ac24f72e3088dbc9": {
          "model_module": "@jupyter-widgets/controls",
          "model_module_version": "1.5.0",
          "model_name": "FloatProgressModel",
          "state": {
            "_dom_classes": [],
            "_model_module": "@jupyter-widgets/controls",
            "_model_module_version": "1.5.0",
            "_model_name": "FloatProgressModel",
            "_view_count": null,
            "_view_module": "@jupyter-widgets/controls",
            "_view_module_version": "1.5.0",
            "_view_name": "ProgressView",
            "bar_style": "success",
            "description": "",
            "description_tooltip": null,
            "layout": "IPY_MODEL_36ebc32267f249cdaed908ab4d7710a5",
            "max": 1,
            "min": 0,
            "orientation": "horizontal",
            "style": "IPY_MODEL_bfd46517d3454fdfa4283a15f0258bd6",
            "value": 1
          }
        },
        "08b15e6b99bc4d3197e4870de03b218d": {
          "model_module": "@jupyter-widgets/controls",
          "model_module_version": "1.5.0",
          "model_name": "HBoxModel",
          "state": {
            "_dom_classes": [],
            "_model_module": "@jupyter-widgets/controls",
            "_model_module_version": "1.5.0",
            "_model_name": "HBoxModel",
            "_view_count": null,
            "_view_module": "@jupyter-widgets/controls",
            "_view_module_version": "1.5.0",
            "_view_name": "HBoxView",
            "box_style": "",
            "children": [
              "IPY_MODEL_aaca4ed33cb94000a76abb8cda953a73",
              "IPY_MODEL_4a5fe57d806744618d65cae5ba733cea",
              "IPY_MODEL_585cced7ef0745fab5f36b062b7499fa"
            ],
            "layout": "IPY_MODEL_8ee28dacf48f4e518691ac9ff3ca0d17"
          }
        },
        "13c3d1f23c2143389eb586dfc4c13a11": {
          "model_module": "@jupyter-widgets/base",
          "model_module_version": "1.2.0",
          "model_name": "LayoutModel",
          "state": {
            "_model_module": "@jupyter-widgets/base",
            "_model_module_version": "1.2.0",
            "_model_name": "LayoutModel",
            "_view_count": null,
            "_view_module": "@jupyter-widgets/base",
            "_view_module_version": "1.2.0",
            "_view_name": "LayoutView",
            "align_content": null,
            "align_items": null,
            "align_self": null,
            "border": null,
            "bottom": null,
            "display": null,
            "flex": null,
            "flex_flow": null,
            "grid_area": null,
            "grid_auto_columns": null,
            "grid_auto_flow": null,
            "grid_auto_rows": null,
            "grid_column": null,
            "grid_gap": null,
            "grid_row": null,
            "grid_template_areas": null,
            "grid_template_columns": null,
            "grid_template_rows": null,
            "height": null,
            "justify_content": null,
            "justify_items": null,
            "left": null,
            "margin": null,
            "max_height": null,
            "max_width": null,
            "min_height": null,
            "min_width": null,
            "object_fit": null,
            "object_position": null,
            "order": null,
            "overflow": null,
            "overflow_x": null,
            "overflow_y": null,
            "padding": null,
            "right": null,
            "top": null,
            "visibility": null,
            "width": null
          }
        },
        "1493932082994830af396473f6fe178c": {
          "model_module": "@jupyter-widgets/base",
          "model_module_version": "1.2.0",
          "model_name": "LayoutModel",
          "state": {
            "_model_module": "@jupyter-widgets/base",
            "_model_module_version": "1.2.0",
            "_model_name": "LayoutModel",
            "_view_count": null,
            "_view_module": "@jupyter-widgets/base",
            "_view_module_version": "1.2.0",
            "_view_name": "LayoutView",
            "align_content": null,
            "align_items": null,
            "align_self": null,
            "border": null,
            "bottom": null,
            "display": null,
            "flex": null,
            "flex_flow": null,
            "grid_area": null,
            "grid_auto_columns": null,
            "grid_auto_flow": null,
            "grid_auto_rows": null,
            "grid_column": null,
            "grid_gap": null,
            "grid_row": null,
            "grid_template_areas": null,
            "grid_template_columns": null,
            "grid_template_rows": null,
            "height": null,
            "justify_content": null,
            "justify_items": null,
            "left": null,
            "margin": null,
            "max_height": null,
            "max_width": null,
            "min_height": null,
            "min_width": null,
            "object_fit": null,
            "object_position": null,
            "order": null,
            "overflow": null,
            "overflow_x": null,
            "overflow_y": null,
            "padding": null,
            "right": null,
            "top": null,
            "visibility": null,
            "width": null
          }
        },
        "1e66c81a128045b6a1d40183aa47a099": {
          "model_module": "@jupyter-widgets/controls",
          "model_module_version": "1.5.0",
          "model_name": "DescriptionStyleModel",
          "state": {
            "_model_module": "@jupyter-widgets/controls",
            "_model_module_version": "1.5.0",
            "_model_name": "DescriptionStyleModel",
            "_view_count": null,
            "_view_module": "@jupyter-widgets/base",
            "_view_module_version": "1.2.0",
            "_view_name": "StyleView",
            "description_width": ""
          }
        },
        "2abb5419de00410e8765d0665961b86c": {
          "model_module": "@jupyter-widgets/controls",
          "model_module_version": "1.5.0",
          "model_name": "FloatProgressModel",
          "state": {
            "_dom_classes": [],
            "_model_module": "@jupyter-widgets/controls",
            "_model_module_version": "1.5.0",
            "_model_name": "FloatProgressModel",
            "_view_count": null,
            "_view_module": "@jupyter-widgets/controls",
            "_view_module_version": "1.5.0",
            "_view_name": "ProgressView",
            "bar_style": "success",
            "description": "",
            "description_tooltip": null,
            "layout": "IPY_MODEL_f31d618c6d43407db100e81927b18762",
            "max": 18,
            "min": 0,
            "orientation": "horizontal",
            "style": "IPY_MODEL_57bcf16223df4321a0c01d898e754b08",
            "value": 18
          }
        },
        "36ebc32267f249cdaed908ab4d7710a5": {
          "model_module": "@jupyter-widgets/base",
          "model_module_version": "1.2.0",
          "model_name": "LayoutModel",
          "state": {
            "_model_module": "@jupyter-widgets/base",
            "_model_module_version": "1.2.0",
            "_model_name": "LayoutModel",
            "_view_count": null,
            "_view_module": "@jupyter-widgets/base",
            "_view_module_version": "1.2.0",
            "_view_name": "LayoutView",
            "align_content": null,
            "align_items": null,
            "align_self": null,
            "border": null,
            "bottom": null,
            "display": null,
            "flex": null,
            "flex_flow": null,
            "grid_area": null,
            "grid_auto_columns": null,
            "grid_auto_flow": null,
            "grid_auto_rows": null,
            "grid_column": null,
            "grid_gap": null,
            "grid_row": null,
            "grid_template_areas": null,
            "grid_template_columns": null,
            "grid_template_rows": null,
            "height": null,
            "justify_content": null,
            "justify_items": null,
            "left": null,
            "margin": null,
            "max_height": null,
            "max_width": null,
            "min_height": null,
            "min_width": null,
            "object_fit": null,
            "object_position": null,
            "order": null,
            "overflow": null,
            "overflow_x": null,
            "overflow_y": null,
            "padding": null,
            "right": null,
            "top": null,
            "visibility": null,
            "width": "20px"
          }
        },
        "4a5fe57d806744618d65cae5ba733cea": {
          "model_module": "@jupyter-widgets/controls",
          "model_module_version": "1.5.0",
          "model_name": "FloatProgressModel",
          "state": {
            "_dom_classes": [],
            "_model_module": "@jupyter-widgets/controls",
            "_model_module_version": "1.5.0",
            "_model_name": "FloatProgressModel",
            "_view_count": null,
            "_view_module": "@jupyter-widgets/controls",
            "_view_module_version": "1.5.0",
            "_view_name": "ProgressView",
            "bar_style": "success",
            "description": "",
            "description_tooltip": null,
            "layout": "IPY_MODEL_4e5d7e1024444a918bbd89ff9957f7a6",
            "max": 8,
            "min": 0,
            "orientation": "horizontal",
            "style": "IPY_MODEL_bef1f307c0a84852b532d48786aa55e5",
            "value": 8
          }
        },
        "4c67aa65120e42999429c26d26052558": {
          "model_module": "@jupyter-widgets/base",
          "model_module_version": "1.2.0",
          "model_name": "LayoutModel",
          "state": {
            "_model_module": "@jupyter-widgets/base",
            "_model_module_version": "1.2.0",
            "_model_name": "LayoutModel",
            "_view_count": null,
            "_view_module": "@jupyter-widgets/base",
            "_view_module_version": "1.2.0",
            "_view_name": "LayoutView",
            "align_content": null,
            "align_items": null,
            "align_self": null,
            "border": null,
            "bottom": null,
            "display": null,
            "flex": null,
            "flex_flow": null,
            "grid_area": null,
            "grid_auto_columns": null,
            "grid_auto_flow": null,
            "grid_auto_rows": null,
            "grid_column": null,
            "grid_gap": null,
            "grid_row": null,
            "grid_template_areas": null,
            "grid_template_columns": null,
            "grid_template_rows": null,
            "height": null,
            "justify_content": null,
            "justify_items": null,
            "left": null,
            "margin": null,
            "max_height": null,
            "max_width": null,
            "min_height": null,
            "min_width": null,
            "object_fit": null,
            "object_position": null,
            "order": null,
            "overflow": null,
            "overflow_x": null,
            "overflow_y": null,
            "padding": null,
            "right": null,
            "top": null,
            "visibility": null,
            "width": null
          }
        },
        "4e5d7e1024444a918bbd89ff9957f7a6": {
          "model_module": "@jupyter-widgets/base",
          "model_module_version": "1.2.0",
          "model_name": "LayoutModel",
          "state": {
            "_model_module": "@jupyter-widgets/base",
            "_model_module_version": "1.2.0",
            "_model_name": "LayoutModel",
            "_view_count": null,
            "_view_module": "@jupyter-widgets/base",
            "_view_module_version": "1.2.0",
            "_view_name": "LayoutView",
            "align_content": null,
            "align_items": null,
            "align_self": null,
            "border": null,
            "bottom": null,
            "display": null,
            "flex": null,
            "flex_flow": null,
            "grid_area": null,
            "grid_auto_columns": null,
            "grid_auto_flow": null,
            "grid_auto_rows": null,
            "grid_column": null,
            "grid_gap": null,
            "grid_row": null,
            "grid_template_areas": null,
            "grid_template_columns": null,
            "grid_template_rows": null,
            "height": null,
            "justify_content": null,
            "justify_items": null,
            "left": null,
            "margin": null,
            "max_height": null,
            "max_width": null,
            "min_height": null,
            "min_width": null,
            "object_fit": null,
            "object_position": null,
            "order": null,
            "overflow": null,
            "overflow_x": null,
            "overflow_y": null,
            "padding": null,
            "right": null,
            "top": null,
            "visibility": null,
            "width": null
          }
        },
        "57bcf16223df4321a0c01d898e754b08": {
          "model_module": "@jupyter-widgets/controls",
          "model_module_version": "1.5.0",
          "model_name": "ProgressStyleModel",
          "state": {
            "_model_module": "@jupyter-widgets/controls",
            "_model_module_version": "1.5.0",
            "_model_name": "ProgressStyleModel",
            "_view_count": null,
            "_view_module": "@jupyter-widgets/base",
            "_view_module_version": "1.2.0",
            "_view_name": "StyleView",
            "bar_color": null,
            "description_width": ""
          }
        },
        "585cced7ef0745fab5f36b062b7499fa": {
          "model_module": "@jupyter-widgets/controls",
          "model_module_version": "1.5.0",
          "model_name": "HTMLModel",
          "state": {
            "_dom_classes": [],
            "_model_module": "@jupyter-widgets/controls",
            "_model_module_version": "1.5.0",
            "_model_name": "HTMLModel",
            "_view_count": null,
            "_view_module": "@jupyter-widgets/controls",
            "_view_module_version": "1.5.0",
            "_view_name": "HTMLView",
            "description": "",
            "description_tooltip": null,
            "layout": "IPY_MODEL_f394479455e44bcdb8656e0742a722e7",
            "placeholder": "​",
            "style": "IPY_MODEL_d8d3a2bd7ad74bc8a531be1e41c9dec9",
            "value": " 8/8 [00:00&lt;00:00, 26.55 examples/s]"
          }
        },
        "668033658149491283f4413de246eb54": {
          "model_module": "@jupyter-widgets/controls",
          "model_module_version": "1.5.0",
          "model_name": "DescriptionStyleModel",
          "state": {
            "_model_module": "@jupyter-widgets/controls",
            "_model_module_version": "1.5.0",
            "_model_name": "DescriptionStyleModel",
            "_view_count": null,
            "_view_module": "@jupyter-widgets/base",
            "_view_module_version": "1.2.0",
            "_view_name": "StyleView",
            "description_width": ""
          }
        },
        "6fd38be554c0411788e3effc89dc2ffb": {
          "model_module": "@jupyter-widgets/base",
          "model_module_version": "1.2.0",
          "model_name": "LayoutModel",
          "state": {
            "_model_module": "@jupyter-widgets/base",
            "_model_module_version": "1.2.0",
            "_model_name": "LayoutModel",
            "_view_count": null,
            "_view_module": "@jupyter-widgets/base",
            "_view_module_version": "1.2.0",
            "_view_name": "LayoutView",
            "align_content": null,
            "align_items": null,
            "align_self": null,
            "border": null,
            "bottom": null,
            "display": null,
            "flex": null,
            "flex_flow": null,
            "grid_area": null,
            "grid_auto_columns": null,
            "grid_auto_flow": null,
            "grid_auto_rows": null,
            "grid_column": null,
            "grid_gap": null,
            "grid_row": null,
            "grid_template_areas": null,
            "grid_template_columns": null,
            "grid_template_rows": null,
            "height": null,
            "justify_content": null,
            "justify_items": null,
            "left": null,
            "margin": null,
            "max_height": null,
            "max_width": null,
            "min_height": null,
            "min_width": null,
            "object_fit": null,
            "object_position": null,
            "order": null,
            "overflow": null,
            "overflow_x": null,
            "overflow_y": null,
            "padding": null,
            "right": null,
            "top": null,
            "visibility": null,
            "width": null
          }
        },
        "6ffb5a046b92411ea65343575047d85b": {
          "model_module": "@jupyter-widgets/controls",
          "model_module_version": "1.5.0",
          "model_name": "DescriptionStyleModel",
          "state": {
            "_model_module": "@jupyter-widgets/controls",
            "_model_module_version": "1.5.0",
            "_model_name": "DescriptionStyleModel",
            "_view_count": null,
            "_view_module": "@jupyter-widgets/base",
            "_view_module_version": "1.2.0",
            "_view_name": "StyleView",
            "description_width": ""
          }
        },
        "8bd925dfa71045e9b95382e6f0d99537": {
          "model_module": "@jupyter-widgets/controls",
          "model_module_version": "1.5.0",
          "model_name": "DescriptionStyleModel",
          "state": {
            "_model_module": "@jupyter-widgets/controls",
            "_model_module_version": "1.5.0",
            "_model_name": "DescriptionStyleModel",
            "_view_count": null,
            "_view_module": "@jupyter-widgets/base",
            "_view_module_version": "1.2.0",
            "_view_name": "StyleView",
            "description_width": ""
          }
        },
        "8dafefa695c84f619a476b57c5579676": {
          "model_module": "@jupyter-widgets/controls",
          "model_module_version": "1.5.0",
          "model_name": "HTMLModel",
          "state": {
            "_dom_classes": [],
            "_model_module": "@jupyter-widgets/controls",
            "_model_module_version": "1.5.0",
            "_model_name": "HTMLModel",
            "_view_count": null,
            "_view_module": "@jupyter-widgets/controls",
            "_view_module_version": "1.5.0",
            "_view_name": "HTMLView",
            "description": "",
            "description_tooltip": null,
            "layout": "IPY_MODEL_009eea282c344f079d3df5e1d5b12a67",
            "placeholder": "​",
            "style": "IPY_MODEL_6ffb5a046b92411ea65343575047d85b",
            "value": " 26/0 [00:00&lt;00:00, 254.76 examples/s]"
          }
        },
        "8ee28dacf48f4e518691ac9ff3ca0d17": {
          "model_module": "@jupyter-widgets/base",
          "model_module_version": "1.2.0",
          "model_name": "LayoutModel",
          "state": {
            "_model_module": "@jupyter-widgets/base",
            "_model_module_version": "1.2.0",
            "_model_name": "LayoutModel",
            "_view_count": null,
            "_view_module": "@jupyter-widgets/base",
            "_view_module_version": "1.2.0",
            "_view_name": "LayoutView",
            "align_content": null,
            "align_items": null,
            "align_self": null,
            "border": null,
            "bottom": null,
            "display": null,
            "flex": null,
            "flex_flow": null,
            "grid_area": null,
            "grid_auto_columns": null,
            "grid_auto_flow": null,
            "grid_auto_rows": null,
            "grid_column": null,
            "grid_gap": null,
            "grid_row": null,
            "grid_template_areas": null,
            "grid_template_columns": null,
            "grid_template_rows": null,
            "height": null,
            "justify_content": null,
            "justify_items": null,
            "left": null,
            "margin": null,
            "max_height": null,
            "max_width": null,
            "min_height": null,
            "min_width": null,
            "object_fit": null,
            "object_position": null,
            "order": null,
            "overflow": null,
            "overflow_x": null,
            "overflow_y": null,
            "padding": null,
            "right": null,
            "top": null,
            "visibility": null,
            "width": null
          }
        },
        "9ecc85077ea44c579e6365c742658ae8": {
          "model_module": "@jupyter-widgets/base",
          "model_module_version": "1.2.0",
          "model_name": "LayoutModel",
          "state": {
            "_model_module": "@jupyter-widgets/base",
            "_model_module_version": "1.2.0",
            "_model_name": "LayoutModel",
            "_view_count": null,
            "_view_module": "@jupyter-widgets/base",
            "_view_module_version": "1.2.0",
            "_view_name": "LayoutView",
            "align_content": null,
            "align_items": null,
            "align_self": null,
            "border": null,
            "bottom": null,
            "display": null,
            "flex": null,
            "flex_flow": null,
            "grid_area": null,
            "grid_auto_columns": null,
            "grid_auto_flow": null,
            "grid_auto_rows": null,
            "grid_column": null,
            "grid_gap": null,
            "grid_row": null,
            "grid_template_areas": null,
            "grid_template_columns": null,
            "grid_template_rows": null,
            "height": null,
            "justify_content": null,
            "justify_items": null,
            "left": null,
            "margin": null,
            "max_height": null,
            "max_width": null,
            "min_height": null,
            "min_width": null,
            "object_fit": null,
            "object_position": null,
            "order": null,
            "overflow": null,
            "overflow_x": null,
            "overflow_y": null,
            "padding": null,
            "right": null,
            "top": null,
            "visibility": null,
            "width": null
          }
        },
        "a88da6334706471e9a0e6318f5c98485": {
          "model_module": "@jupyter-widgets/base",
          "model_module_version": "1.2.0",
          "model_name": "LayoutModel",
          "state": {
            "_model_module": "@jupyter-widgets/base",
            "_model_module_version": "1.2.0",
            "_model_name": "LayoutModel",
            "_view_count": null,
            "_view_module": "@jupyter-widgets/base",
            "_view_module_version": "1.2.0",
            "_view_name": "LayoutView",
            "align_content": null,
            "align_items": null,
            "align_self": null,
            "border": null,
            "bottom": null,
            "display": null,
            "flex": null,
            "flex_flow": null,
            "grid_area": null,
            "grid_auto_columns": null,
            "grid_auto_flow": null,
            "grid_auto_rows": null,
            "grid_column": null,
            "grid_gap": null,
            "grid_row": null,
            "grid_template_areas": null,
            "grid_template_columns": null,
            "grid_template_rows": null,
            "height": null,
            "justify_content": null,
            "justify_items": null,
            "left": null,
            "margin": null,
            "max_height": null,
            "max_width": null,
            "min_height": null,
            "min_width": null,
            "object_fit": null,
            "object_position": null,
            "order": null,
            "overflow": null,
            "overflow_x": null,
            "overflow_y": null,
            "padding": null,
            "right": null,
            "top": null,
            "visibility": null,
            "width": null
          }
        },
        "aa2da4aecd564961b3339dae8d3d314b": {
          "model_module": "@jupyter-widgets/controls",
          "model_module_version": "1.5.0",
          "model_name": "HBoxModel",
          "state": {
            "_dom_classes": [],
            "_model_module": "@jupyter-widgets/controls",
            "_model_module_version": "1.5.0",
            "_model_name": "HBoxModel",
            "_view_count": null,
            "_view_module": "@jupyter-widgets/controls",
            "_view_module_version": "1.5.0",
            "_view_name": "HBoxView",
            "box_style": "",
            "children": [
              "IPY_MODEL_e061d59ecd84481ca93d8873987b18de",
              "IPY_MODEL_2abb5419de00410e8765d0665961b86c",
              "IPY_MODEL_d9c8a2346a1244308dd9c25248fc24b2"
            ],
            "layout": "IPY_MODEL_6fd38be554c0411788e3effc89dc2ffb"
          }
        },
        "aaca4ed33cb94000a76abb8cda953a73": {
          "model_module": "@jupyter-widgets/controls",
          "model_module_version": "1.5.0",
          "model_name": "HTMLModel",
          "state": {
            "_dom_classes": [],
            "_model_module": "@jupyter-widgets/controls",
            "_model_module_version": "1.5.0",
            "_model_name": "HTMLModel",
            "_view_count": null,
            "_view_module": "@jupyter-widgets/controls",
            "_view_module_version": "1.5.0",
            "_view_name": "HTMLView",
            "description": "",
            "description_tooltip": null,
            "layout": "IPY_MODEL_a88da6334706471e9a0e6318f5c98485",
            "placeholder": "​",
            "style": "IPY_MODEL_8bd925dfa71045e9b95382e6f0d99537",
            "value": "Map: 100%"
          }
        },
        "b91e0ba5495a48f8bed371b9f849ecb3": {
          "model_module": "@jupyter-widgets/controls",
          "model_module_version": "1.5.0",
          "model_name": "HBoxModel",
          "state": {
            "_dom_classes": [],
            "_model_module": "@jupyter-widgets/controls",
            "_model_module_version": "1.5.0",
            "_model_name": "HBoxModel",
            "_view_count": null,
            "_view_module": "@jupyter-widgets/controls",
            "_view_module_version": "1.5.0",
            "_view_name": "HBoxView",
            "box_style": "",
            "children": [
              "IPY_MODEL_e814cf01a5b24bcd842a8b1cc53d4c9c",
              "IPY_MODEL_033e64772dfe46c0ac24f72e3088dbc9",
              "IPY_MODEL_8dafefa695c84f619a476b57c5579676"
            ],
            "layout": "IPY_MODEL_13c3d1f23c2143389eb586dfc4c13a11"
          }
        },
        "bef1f307c0a84852b532d48786aa55e5": {
          "model_module": "@jupyter-widgets/controls",
          "model_module_version": "1.5.0",
          "model_name": "ProgressStyleModel",
          "state": {
            "_model_module": "@jupyter-widgets/controls",
            "_model_module_version": "1.5.0",
            "_model_name": "ProgressStyleModel",
            "_view_count": null,
            "_view_module": "@jupyter-widgets/base",
            "_view_module_version": "1.2.0",
            "_view_name": "StyleView",
            "bar_color": null,
            "description_width": ""
          }
        },
        "bfd46517d3454fdfa4283a15f0258bd6": {
          "model_module": "@jupyter-widgets/controls",
          "model_module_version": "1.5.0",
          "model_name": "ProgressStyleModel",
          "state": {
            "_model_module": "@jupyter-widgets/controls",
            "_model_module_version": "1.5.0",
            "_model_name": "ProgressStyleModel",
            "_view_count": null,
            "_view_module": "@jupyter-widgets/base",
            "_view_module_version": "1.2.0",
            "_view_name": "StyleView",
            "bar_color": null,
            "description_width": ""
          }
        },
        "c1519d98abc24772a942c10ef2c18281": {
          "model_module": "@jupyter-widgets/controls",
          "model_module_version": "1.5.0",
          "model_name": "DescriptionStyleModel",
          "state": {
            "_model_module": "@jupyter-widgets/controls",
            "_model_module_version": "1.5.0",
            "_model_name": "DescriptionStyleModel",
            "_view_count": null,
            "_view_module": "@jupyter-widgets/base",
            "_view_module_version": "1.2.0",
            "_view_name": "StyleView",
            "description_width": ""
          }
        },
        "d8d3a2bd7ad74bc8a531be1e41c9dec9": {
          "model_module": "@jupyter-widgets/controls",
          "model_module_version": "1.5.0",
          "model_name": "DescriptionStyleModel",
          "state": {
            "_model_module": "@jupyter-widgets/controls",
            "_model_module_version": "1.5.0",
            "_model_name": "DescriptionStyleModel",
            "_view_count": null,
            "_view_module": "@jupyter-widgets/base",
            "_view_module_version": "1.2.0",
            "_view_name": "StyleView",
            "description_width": ""
          }
        },
        "d9c8a2346a1244308dd9c25248fc24b2": {
          "model_module": "@jupyter-widgets/controls",
          "model_module_version": "1.5.0",
          "model_name": "HTMLModel",
          "state": {
            "_dom_classes": [],
            "_model_module": "@jupyter-widgets/controls",
            "_model_module_version": "1.5.0",
            "_model_name": "HTMLModel",
            "_view_count": null,
            "_view_module": "@jupyter-widgets/controls",
            "_view_module_version": "1.5.0",
            "_view_name": "HTMLView",
            "description": "",
            "description_tooltip": null,
            "layout": "IPY_MODEL_9ecc85077ea44c579e6365c742658ae8",
            "placeholder": "​",
            "style": "IPY_MODEL_1e66c81a128045b6a1d40183aa47a099",
            "value": " 18/18 [00:00&lt;00:00, 28.51 examples/s]"
          }
        },
        "e061d59ecd84481ca93d8873987b18de": {
          "model_module": "@jupyter-widgets/controls",
          "model_module_version": "1.5.0",
          "model_name": "HTMLModel",
          "state": {
            "_dom_classes": [],
            "_model_module": "@jupyter-widgets/controls",
            "_model_module_version": "1.5.0",
            "_model_name": "HTMLModel",
            "_view_count": null,
            "_view_module": "@jupyter-widgets/controls",
            "_view_module_version": "1.5.0",
            "_view_name": "HTMLView",
            "description": "",
            "description_tooltip": null,
            "layout": "IPY_MODEL_4c67aa65120e42999429c26d26052558",
            "placeholder": "​",
            "style": "IPY_MODEL_668033658149491283f4413de246eb54",
            "value": "Map: 100%"
          }
        },
        "e814cf01a5b24bcd842a8b1cc53d4c9c": {
          "model_module": "@jupyter-widgets/controls",
          "model_module_version": "1.5.0",
          "model_name": "HTMLModel",
          "state": {
            "_dom_classes": [],
            "_model_module": "@jupyter-widgets/controls",
            "_model_module_version": "1.5.0",
            "_model_name": "HTMLModel",
            "_view_count": null,
            "_view_module": "@jupyter-widgets/controls",
            "_view_module_version": "1.5.0",
            "_view_name": "HTMLView",
            "description": "",
            "description_tooltip": null,
            "layout": "IPY_MODEL_1493932082994830af396473f6fe178c",
            "placeholder": "​",
            "style": "IPY_MODEL_c1519d98abc24772a942c10ef2c18281",
            "value": "Generating train split: "
          }
        },
        "f31d618c6d43407db100e81927b18762": {
          "model_module": "@jupyter-widgets/base",
          "model_module_version": "1.2.0",
          "model_name": "LayoutModel",
          "state": {
            "_model_module": "@jupyter-widgets/base",
            "_model_module_version": "1.2.0",
            "_model_name": "LayoutModel",
            "_view_count": null,
            "_view_module": "@jupyter-widgets/base",
            "_view_module_version": "1.2.0",
            "_view_name": "LayoutView",
            "align_content": null,
            "align_items": null,
            "align_self": null,
            "border": null,
            "bottom": null,
            "display": null,
            "flex": null,
            "flex_flow": null,
            "grid_area": null,
            "grid_auto_columns": null,
            "grid_auto_flow": null,
            "grid_auto_rows": null,
            "grid_column": null,
            "grid_gap": null,
            "grid_row": null,
            "grid_template_areas": null,
            "grid_template_columns": null,
            "grid_template_rows": null,
            "height": null,
            "justify_content": null,
            "justify_items": null,
            "left": null,
            "margin": null,
            "max_height": null,
            "max_width": null,
            "min_height": null,
            "min_width": null,
            "object_fit": null,
            "object_position": null,
            "order": null,
            "overflow": null,
            "overflow_x": null,
            "overflow_y": null,
            "padding": null,
            "right": null,
            "top": null,
            "visibility": null,
            "width": null
          }
        },
        "f394479455e44bcdb8656e0742a722e7": {
          "model_module": "@jupyter-widgets/base",
          "model_module_version": "1.2.0",
          "model_name": "LayoutModel",
          "state": {
            "_model_module": "@jupyter-widgets/base",
            "_model_module_version": "1.2.0",
            "_model_name": "LayoutModel",
            "_view_count": null,
            "_view_module": "@jupyter-widgets/base",
            "_view_module_version": "1.2.0",
            "_view_name": "LayoutView",
            "align_content": null,
            "align_items": null,
            "align_self": null,
            "border": null,
            "bottom": null,
            "display": null,
            "flex": null,
            "flex_flow": null,
            "grid_area": null,
            "grid_auto_columns": null,
            "grid_auto_flow": null,
            "grid_auto_rows": null,
            "grid_column": null,
            "grid_gap": null,
            "grid_row": null,
            "grid_template_areas": null,
            "grid_template_columns": null,
            "grid_template_rows": null,
            "height": null,
            "justify_content": null,
            "justify_items": null,
            "left": null,
            "margin": null,
            "max_height": null,
            "max_width": null,
            "min_height": null,
            "min_width": null,
            "object_fit": null,
            "object_position": null,
            "order": null,
            "overflow": null,
            "overflow_x": null,
            "overflow_y": null,
            "padding": null,
            "right": null,
            "top": null,
            "visibility": null,
            "width": null
          }
        }
      }
    }
  },
  "nbformat": 4,
  "nbformat_minor": 0
}
